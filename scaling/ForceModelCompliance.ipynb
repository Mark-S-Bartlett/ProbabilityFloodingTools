{
 "cells": [
  {
   "cell_type": "code",
   "execution_count": 1,
   "metadata": {},
   "outputs": [],
   "source": [
    "import pathlib as pl\n",
    "import os\n",
    "import shutil\n",
    "\n",
    "def is_binary(f:str) -> bool:\n",
    "    \"\"\"Quick test to see if file is text or binrary\"\"\"\n",
    "    textchars = bytearray({7,8,9,10,12,13,27} | set(range(0x20, 0x100)) - {0x7f})\n",
    "    is_binary_string = lambda bytes: bool(bytes.translate(None, textchars))\n",
    "    return is_binary_string(open(f, 'rb').read(1024))"
   ]
  },
  {
   "cell_type": "code",
   "execution_count": 2,
   "metadata": {},
   "outputs": [],
   "source": [
    "pmodel = '_H06'\n",
    "pbase = '_H00'"
   ]
  },
  {
   "cell_type": "code",
   "execution_count": 4,
   "metadata": {},
   "outputs": [
    {
     "name": "stdout",
     "output_type": "stream",
     "text": [
      "C:\\Users\\slawler\\Desktop\\Sacramento_P01_H06\\Sacramento_P01_H00.zip C:\\Users\\slawler\\Desktop\\Sacramento_P01_H00\\Sacramento_P01_H00.zip\n",
      "C:\\Users\\slawler\\Desktop\\Sacramento_P01_H06\\Sacramento_P01_H00\\Backup.g01 C:\\Users\\slawler\\Desktop\\Sacramento_P01_H00\\Backup.g01\n",
      "C:\\Users\\slawler\\Desktop\\Sacramento_P01_H06\\Sacramento_P01_H00\\Backup.p01 C:\\Users\\slawler\\Desktop\\Sacramento_P01_H00\\Backup.p01\n",
      "C:\\Users\\slawler\\Desktop\\Sacramento_P01_H06\\Sacramento_P01_H00\\Backup.u01 C:\\Users\\slawler\\Desktop\\Sacramento_P01_H00\\Backup.u01\n",
      "C:\\Users\\slawler\\Desktop\\Sacramento_P01_H06\\Sacramento_P01_H00\\Manning_nValue.hdf C:\\Users\\slawler\\Desktop\\Sacramento_P01_H00\\Manning_nValue.hdf\n",
      "C:\\Users\\slawler\\Desktop\\Sacramento_P01_H06\\Sacramento_P01_H00\\Manning_nValue.tif C:\\Users\\slawler\\Desktop\\Sacramento_P01_H00\\Manning_nValue.tif\n",
      "C:\\Users\\slawler\\Desktop\\Sacramento_P01_H06\\Sacramento_P01_H00\\MergedInputs.vrt C:\\Users\\slawler\\Desktop\\Sacramento_P01_H00\\MergedInputs.vrt\n",
      "C:\\Users\\slawler\\Desktop\\Sacramento_P01_H06\\Sacramento_P01_H00\\ProjectionFile.prj C:\\Users\\slawler\\Desktop\\Sacramento_P01_H00\\ProjectionFile.prj\n",
      "C:\\Users\\slawler\\Desktop\\Sacramento_P01_H06\\Sacramento_P01_H00\\Sacramento_P01_H00.b05 C:\\Users\\slawler\\Desktop\\Sacramento_P01_H00\\Sacramento_P01_H00.b05\n",
      "C:\\Users\\slawler\\Desktop\\Sacramento_P01_H06\\Sacramento_P01_H00\\Sacramento_P01_H00.b07 C:\\Users\\slawler\\Desktop\\Sacramento_P01_H00\\Sacramento_P01_H00.b07\n",
      "C:\\Users\\slawler\\Desktop\\Sacramento_P01_H06\\Sacramento_P01_H00\\Sacramento_P01_H00.bco05 C:\\Users\\slawler\\Desktop\\Sacramento_P01_H00\\Sacramento_P01_H00.bco05\n",
      "C:\\Users\\slawler\\Desktop\\Sacramento_P01_H06\\Sacramento_P01_H00\\Sacramento_P01_H00.bco07 C:\\Users\\slawler\\Desktop\\Sacramento_P01_H00\\Sacramento_P01_H00.bco07\n",
      "C:\\Users\\slawler\\Desktop\\Sacramento_P01_H06\\Sacramento_P01_H00\\Sacramento_P01_H00.c01 C:\\Users\\slawler\\Desktop\\Sacramento_P01_H00\\Sacramento_P01_H00.c01\n",
      "C:\\Users\\slawler\\Desktop\\Sacramento_P01_H06\\Sacramento_P01_H00\\Sacramento_P01_H00.dss C:\\Users\\slawler\\Desktop\\Sacramento_P01_H00\\Sacramento_P01_H00.dss\n",
      "C:\\Users\\slawler\\Desktop\\Sacramento_P01_H06\\Sacramento_P01_H00\\Sacramento_P01_H00.g01 C:\\Users\\slawler\\Desktop\\Sacramento_P01_H00\\Sacramento_P01_H00.g01\n",
      "C:\\Users\\slawler\\Desktop\\Sacramento_P01_H06\\Sacramento_P01_H00\\Sacramento_P01_H00.g01.hdf C:\\Users\\slawler\\Desktop\\Sacramento_P01_H00\\Sacramento_P01_H00.g01.hdf\n",
      "C:\\Users\\slawler\\Desktop\\Sacramento_P01_H06\\Sacramento_P01_H00\\Sacramento_P01_H00.IC.O05 C:\\Users\\slawler\\Desktop\\Sacramento_P01_H00\\Sacramento_P01_H00.IC.O05\n",
      "C:\\Users\\slawler\\Desktop\\Sacramento_P01_H06\\Sacramento_P01_H00\\Sacramento_P01_H00.IC.O07 C:\\Users\\slawler\\Desktop\\Sacramento_P01_H00\\Sacramento_P01_H00.IC.O07\n",
      "C:\\Users\\slawler\\Desktop\\Sacramento_P01_H06\\Sacramento_P01_H00\\Sacramento_P01_H00.p07 C:\\Users\\slawler\\Desktop\\Sacramento_P01_H00\\Sacramento_P01_H00.p07\n",
      "C:\\Users\\slawler\\Desktop\\Sacramento_P01_H06\\Sacramento_P01_H00\\Sacramento_P01_H00.p07.blf C:\\Users\\slawler\\Desktop\\Sacramento_P01_H00\\Sacramento_P01_H00.p07.blf\n",
      "C:\\Users\\slawler\\Desktop\\Sacramento_P01_H06\\Sacramento_P01_H00\\Sacramento_P01_H00.p07.hdf C:\\Users\\slawler\\Desktop\\Sacramento_P01_H00\\Sacramento_P01_H00.p07.hdf\n",
      "C:\\Users\\slawler\\Desktop\\Sacramento_P01_H06\\Sacramento_P01_H00\\Sacramento_P01_H00.prj C:\\Users\\slawler\\Desktop\\Sacramento_P01_H00\\Sacramento_P01_H00.prj\n",
      "C:\\Users\\slawler\\Desktop\\Sacramento_P01_H06\\Sacramento_P01_H00\\Sacramento_P01_H00.rasmap C:\\Users\\slawler\\Desktop\\Sacramento_P01_H00\\Sacramento_P01_H00.rasmap\n",
      "C:\\Users\\slawler\\Desktop\\Sacramento_P01_H06\\Sacramento_P01_H00\\Sacramento_P01_H00.rasmap.backup C:\\Users\\slawler\\Desktop\\Sacramento_P01_H00\\Sacramento_P01_H00.rasmap.backup\n",
      "C:\\Users\\slawler\\Desktop\\Sacramento_P01_H06\\Sacramento_P01_H00\\Sacramento_P01_H00.u04 C:\\Users\\slawler\\Desktop\\Sacramento_P01_H00\\Sacramento_P01_H00.u04\n",
      "C:\\Users\\slawler\\Desktop\\Sacramento_P01_H06\\Sacramento_P01_H00\\Sacramento_P01_H00.x01 C:\\Users\\slawler\\Desktop\\Sacramento_P01_H00\\Sacramento_P01_H00.x01\n",
      "C:\\Users\\slawler\\Desktop\\Sacramento_P01_H06\\Sacramento_P01_H00\\Terrain.hdf C:\\Users\\slawler\\Desktop\\Sacramento_P01_H00\\Terrain.hdf\n",
      "C:\\Users\\slawler\\Desktop\\Sacramento_P01_H06\\Sacramento_P01_H00\\Terrain.lidar.tif C:\\Users\\slawler\\Desktop\\Sacramento_P01_H00\\Terrain.lidar.tif\n",
      "C:\\Users\\slawler\\Desktop\\Sacramento_P01_H06\\Sacramento_P01_H00\\Terrain.usgs_clp.tif C:\\Users\\slawler\\Desktop\\Sacramento_P01_H00\\Terrain.usgs_clp.tif\n",
      "C:\\Users\\slawler\\Desktop\\Sacramento_P01_H06\\Sacramento_P01_H00\\Terrain.vrt C:\\Users\\slawler\\Desktop\\Sacramento_P01_H00\\Terrain.vrt\n",
      "C:\\Users\\slawler\\Desktop\\Sacramento_P01_H06\\Sacramento_P01_H00\\Terrain.vrt.ovr C:\\Users\\slawler\\Desktop\\Sacramento_P01_H00\\Terrain.vrt.ovr\n",
      "C:\\Users\\slawler\\Desktop\\Sacramento_P01_H06\\Sacramento_P01_H00\\Terrain_Final.hdf C:\\Users\\slawler\\Desktop\\Sacramento_P01_H00\\Terrain_Final.hdf\n",
      "C:\\Users\\slawler\\Desktop\\Sacramento_P01_H06\\Sacramento_P01_H00\\Terrain_Final.MergedInputs.tif C:\\Users\\slawler\\Desktop\\Sacramento_P01_H00\\Terrain_Final.MergedInputs.tif\n",
      "C:\\Users\\slawler\\Desktop\\Sacramento_P01_H06\\Sacramento_P01_H00\\Terrain_Final.vrt C:\\Users\\slawler\\Desktop\\Sacramento_P01_H00\\Terrain_Final.vrt\n",
      "C:\\Users\\slawler\\Desktop\\Sacramento_P01_H06\\Sacramento_P01_H00\\Thumbs.db C:\\Users\\slawler\\Desktop\\Sacramento_P01_H00\\Thumbs.db\n",
      "C:\\Users\\slawler\\Desktop\\Sacramento_P01_H06\\Sacramento_P01_H06\\Backup.g01 C:\\Users\\slawler\\Desktop\\Sacramento_P01_H00\\Backup.g01\n",
      "C:\\Users\\slawler\\Desktop\\Sacramento_P01_H06\\Sacramento_P01_H06\\Backup.p01 C:\\Users\\slawler\\Desktop\\Sacramento_P01_H00\\Backup.p01\n",
      "C:\\Users\\slawler\\Desktop\\Sacramento_P01_H06\\Sacramento_P01_H06\\Backup.u01 C:\\Users\\slawler\\Desktop\\Sacramento_P01_H00\\Backup.u01\n",
      "C:\\Users\\slawler\\Desktop\\Sacramento_P01_H06\\Sacramento_P01_H06\\Sacramento_P01_H06.b05 C:\\Users\\slawler\\Desktop\\Sacramento_P01_H00\\Sacramento_P01_H00.b05\n",
      "C:\\Users\\slawler\\Desktop\\Sacramento_P01_H06\\Sacramento_P01_H06\\Sacramento_P01_H06.b07 C:\\Users\\slawler\\Desktop\\Sacramento_P01_H00\\Sacramento_P01_H00.b07\n",
      "C:\\Users\\slawler\\Desktop\\Sacramento_P01_H06\\Sacramento_P01_H06\\Sacramento_P01_H06.bco05 C:\\Users\\slawler\\Desktop\\Sacramento_P01_H00\\Sacramento_P01_H00.bco05\n",
      "C:\\Users\\slawler\\Desktop\\Sacramento_P01_H06\\Sacramento_P01_H06\\Sacramento_P01_H06.bco07 C:\\Users\\slawler\\Desktop\\Sacramento_P01_H00\\Sacramento_P01_H00.bco07\n",
      "C:\\Users\\slawler\\Desktop\\Sacramento_P01_H06\\Sacramento_P01_H06\\Sacramento_P01_H06.c01 C:\\Users\\slawler\\Desktop\\Sacramento_P01_H00\\Sacramento_P01_H00.c01\n",
      "C:\\Users\\slawler\\Desktop\\Sacramento_P01_H06\\Sacramento_P01_H06\\Sacramento_P01_H06.dss C:\\Users\\slawler\\Desktop\\Sacramento_P01_H00\\Sacramento_P01_H00.dss\n",
      "C:\\Users\\slawler\\Desktop\\Sacramento_P01_H06\\Sacramento_P01_H06\\Sacramento_P01_H06.g01 C:\\Users\\slawler\\Desktop\\Sacramento_P01_H00\\Sacramento_P01_H00.g01\n",
      "C:\\Users\\slawler\\Desktop\\Sacramento_P01_H06\\Sacramento_P01_H06\\Sacramento_P01_H06.g01.hdf C:\\Users\\slawler\\Desktop\\Sacramento_P01_H00\\Sacramento_P01_H00.g01.hdf\n",
      "C:\\Users\\slawler\\Desktop\\Sacramento_P01_H06\\Sacramento_P01_H06\\Sacramento_P01_H06.IC.O05 C:\\Users\\slawler\\Desktop\\Sacramento_P01_H00\\Sacramento_P01_H00.IC.O05\n",
      "C:\\Users\\slawler\\Desktop\\Sacramento_P01_H06\\Sacramento_P01_H06\\Sacramento_P01_H06.IC.O07 C:\\Users\\slawler\\Desktop\\Sacramento_P01_H00\\Sacramento_P01_H00.IC.O07\n",
      "C:\\Users\\slawler\\Desktop\\Sacramento_P01_H06\\Sacramento_P01_H06\\Sacramento_P01_H06.p07 C:\\Users\\slawler\\Desktop\\Sacramento_P01_H00\\Sacramento_P01_H00.p07\n",
      "C:\\Users\\slawler\\Desktop\\Sacramento_P01_H06\\Sacramento_P01_H06\\Sacramento_P01_H06.p07.blf C:\\Users\\slawler\\Desktop\\Sacramento_P01_H00\\Sacramento_P01_H00.p07.blf\n",
      "C:\\Users\\slawler\\Desktop\\Sacramento_P01_H06\\Sacramento_P01_H06\\Sacramento_P01_H06.p07.hdf C:\\Users\\slawler\\Desktop\\Sacramento_P01_H00\\Sacramento_P01_H00.p07.hdf\n",
      "C:\\Users\\slawler\\Desktop\\Sacramento_P01_H06\\Sacramento_P01_H06\\Sacramento_P01_H06.prj C:\\Users\\slawler\\Desktop\\Sacramento_P01_H00\\Sacramento_P01_H00.prj\n",
      "C:\\Users\\slawler\\Desktop\\Sacramento_P01_H06\\Sacramento_P01_H06\\Sacramento_P01_H06.rasmap C:\\Users\\slawler\\Desktop\\Sacramento_P01_H00\\Sacramento_P01_H00.rasmap\n",
      "C:\\Users\\slawler\\Desktop\\Sacramento_P01_H06\\Sacramento_P01_H06\\Sacramento_P01_H06.rasmap.backup C:\\Users\\slawler\\Desktop\\Sacramento_P01_H00\\Sacramento_P01_H00.rasmap.backup\n",
      "C:\\Users\\slawler\\Desktop\\Sacramento_P01_H06\\Sacramento_P01_H06\\Sacramento_P01_H06.u04 C:\\Users\\slawler\\Desktop\\Sacramento_P01_H00\\Sacramento_P01_H00.u04\n",
      "C:\\Users\\slawler\\Desktop\\Sacramento_P01_H06\\Sacramento_P01_H06\\Sacramento_P01_H06.x01 C:\\Users\\slawler\\Desktop\\Sacramento_P01_H00\\Sacramento_P01_H00.x01\n",
      "C:\\Users\\slawler\\Desktop\\Sacramento_P01_H06\\Sacramento_P01_H06\\AmericanRNorthManningsN\\Manning_nValue.hdf C:\\Users\\slawler\\Desktop\\Sacramento_P01_H00\\Manning_nValue.hdf\n",
      "C:\\Users\\slawler\\Desktop\\Sacramento_P01_H06\\Sacramento_P01_H06\\AmericanRNorthManningsN\\Manning_nValue.tif C:\\Users\\slawler\\Desktop\\Sacramento_P01_H00\\Manning_nValue.tif\n",
      "C:\\Users\\slawler\\Desktop\\Sacramento_P01_H06\\Sacramento_P01_H06\\AmericanRNorthManningsN\\Thumbs.db C:\\Users\\slawler\\Desktop\\Sacramento_P01_H00\\Thumbs.db\n",
      "C:\\Users\\slawler\\Desktop\\Sacramento_P01_H06\\Sacramento_P01_H06\\Projection\\ProjectionFile.prj C:\\Users\\slawler\\Desktop\\Sacramento_P01_H00\\ProjectionFile.prj\n",
      "C:\\Users\\slawler\\Desktop\\Sacramento_P01_H06\\Sacramento_P01_H06\\Terrain\\MergedInputs.vrt C:\\Users\\slawler\\Desktop\\Sacramento_P01_H00\\MergedInputs.vrt\n",
      "C:\\Users\\slawler\\Desktop\\Sacramento_P01_H06\\Sacramento_P01_H06\\Terrain\\Terrain.hdf C:\\Users\\slawler\\Desktop\\Sacramento_P01_H00\\Terrain.hdf\n",
      "C:\\Users\\slawler\\Desktop\\Sacramento_P01_H06\\Sacramento_P01_H06\\Terrain\\Terrain.lidar.tif C:\\Users\\slawler\\Desktop\\Sacramento_P01_H00\\Terrain.lidar.tif\n",
      "C:\\Users\\slawler\\Desktop\\Sacramento_P01_H06\\Sacramento_P01_H06\\Terrain\\Terrain.usgs_clp.tif C:\\Users\\slawler\\Desktop\\Sacramento_P01_H00\\Terrain.usgs_clp.tif\n",
      "C:\\Users\\slawler\\Desktop\\Sacramento_P01_H06\\Sacramento_P01_H06\\Terrain\\Terrain.vrt C:\\Users\\slawler\\Desktop\\Sacramento_P01_H00\\Terrain.vrt\n",
      "C:\\Users\\slawler\\Desktop\\Sacramento_P01_H06\\Sacramento_P01_H06\\Terrain\\Terrain.vrt.ovr C:\\Users\\slawler\\Desktop\\Sacramento_P01_H00\\Terrain.vrt.ovr\n",
      "C:\\Users\\slawler\\Desktop\\Sacramento_P01_H06\\Sacramento_P01_H06\\Terrain\\Terrain_Final.hdf C:\\Users\\slawler\\Desktop\\Sacramento_P01_H00\\Terrain_Final.hdf\n",
      "C:\\Users\\slawler\\Desktop\\Sacramento_P01_H06\\Sacramento_P01_H06\\Terrain\\Terrain_Final.MergedInputs.tif C:\\Users\\slawler\\Desktop\\Sacramento_P01_H00\\Terrain_Final.MergedInputs.tif\n",
      "C:\\Users\\slawler\\Desktop\\Sacramento_P01_H06\\Sacramento_P01_H06\\Terrain\\Terrain_Final.vrt C:\\Users\\slawler\\Desktop\\Sacramento_P01_H00\\Terrain_Final.vrt\n"
     ]
    }
   ],
   "source": [
    "wkdir = pl.Path(r'C:\\Users\\slawler\\Desktop\\Sacramento_P01_H06')\n",
    "newdir = pl.Path(r'C:\\Users\\slawler\\Desktop\\Sacramento_P01_H00')\n",
    "if not os.path.exists(newdir): os.mkdir(newdir)\n",
    "files = list(wkdir.rglob('*'))\n",
    "\n",
    "for f in files:\n",
    "    newfname = f.name.replace('_H06', '_H00')\n",
    "    newfile = newdir/newfname\n",
    "    if os.path.isdir(f):\n",
    "        try:\n",
    "            os.mkdir(newdir/f.name)\n",
    "        except:\n",
    "            continue\n",
    "    else:\n",
    "        shutil.copy(f, newfile) \n",
    "    print(f, newfile)"
   ]
  },
  {
   "cell_type": "code",
   "execution_count": 103,
   "metadata": {},
   "outputs": [
    {
     "data": {
      "text/plain": [
       "['C:\\\\Users\\\\slawler\\\\Desktop\\\\Sacramento_P01_H06\\\\Sacramento_P01_H00\\\\Sacramento_P01_H00.b05',\n",
       " 'C:\\\\Users\\\\slawler\\\\Desktop\\\\Sacramento_P01_H06\\\\Sacramento_P01_H00\\\\Sacramento_P01_H00.b07',\n",
       " 'C:\\\\Users\\\\slawler\\\\Desktop\\\\Sacramento_P01_H06\\\\Sacramento_P01_H00\\\\Sacramento_P01_H00.bco05',\n",
       " 'C:\\\\Users\\\\slawler\\\\Desktop\\\\Sacramento_P01_H06\\\\Sacramento_P01_H00\\\\Sacramento_P01_H00.bco07',\n",
       " 'C:\\\\Users\\\\slawler\\\\Desktop\\\\Sacramento_P01_H06\\\\Sacramento_P01_H00\\\\Sacramento_P01_H00.g01',\n",
       " 'C:\\\\Users\\\\slawler\\\\Desktop\\\\Sacramento_P01_H06\\\\Sacramento_P01_H00\\\\Sacramento_P01_H00.p07',\n",
       " 'C:\\\\Users\\\\slawler\\\\Desktop\\\\Sacramento_P01_H06\\\\Sacramento_P01_H00\\\\Sacramento_P01_H00.prj',\n",
       " 'C:\\\\Users\\\\slawler\\\\Desktop\\\\Sacramento_P01_H06\\\\Sacramento_P01_H00\\\\Sacramento_P01_H00.rasmap',\n",
       " 'C:\\\\Users\\\\slawler\\\\Desktop\\\\Sacramento_P01_H06\\\\Sacramento_P01_H00\\\\Sacramento_P01_H00.rasmap.backup',\n",
       " 'C:\\\\Users\\\\slawler\\\\Desktop\\\\Sacramento_P01_H06\\\\Sacramento_P01_H00\\\\Sacramento_P01_H00.u04',\n",
       " 'C:\\\\Users\\\\slawler\\\\Desktop\\\\Sacramento_P01_H06\\\\Sacramento_P01_H00\\\\Sacramento_P01_H00.x01']"
      ]
     },
     "execution_count": 103,
     "metadata": {},
     "output_type": "execute_result"
    }
   ],
   "source": [
    "files = list(newdir.rglob('*'))\n",
    "update_files = [str(f) for f in files if pbase in (f.name) and not is_binary(f)]\n",
    "update_files"
   ]
  },
  {
   "cell_type": "code",
   "execution_count": 108,
   "metadata": {},
   "outputs": [],
   "source": [
    "for file in update_files:\n",
    "    with open(file, 'r') as f:\n",
    "        lines = f.readlines()\n",
    "        newlines = [line.replace(pmodel, pbase) if pmodel in line else line for line in lines]\n",
    "    with open(file, 'w') as f:\n",
    "        for line in newlines:\n",
    "            f.write(line)"
   ]
  },
  {
   "cell_type": "code",
   "execution_count": 81,
   "metadata": {},
   "outputs": [
    {
     "data": {
      "text/plain": [
       "'Terrain_Final.vrt'"
      ]
     },
     "execution_count": 81,
     "metadata": {},
     "output_type": "execute_result"
    }
   ],
   "source": [
    "f.name"
   ]
  },
  {
   "cell_type": "code",
   "execution_count": 96,
   "metadata": {},
   "outputs": [],
   "source": []
  },
  {
   "cell_type": "code",
   "execution_count": null,
   "metadata": {},
   "outputs": [],
   "source": []
  }
 ],
 "metadata": {
  "kernelspec": {
   "display_name": "Python 3",
   "language": "python",
   "name": "python3"
  },
  "language_info": {
   "codemirror_mode": {
    "name": "ipython",
    "version": 3
   },
   "file_extension": ".py",
   "mimetype": "text/x-python",
   "name": "python",
   "nbconvert_exporter": "python",
   "pygments_lexer": "ipython3",
   "version": "3.6.5"
  }
 },
 "nbformat": 4,
 "nbformat_minor": 4
}
