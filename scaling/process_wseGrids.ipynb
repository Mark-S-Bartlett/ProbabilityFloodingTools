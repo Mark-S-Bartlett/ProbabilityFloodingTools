{
 "cells": [
  {
   "cell_type": "markdown",
   "metadata": {},
   "source": [
    "# Development Notebook \n",
    "\n",
    "## Post Processing\n",
    "\n",
    "---\n",
    "\n",
    "\n",
    "### WSE creation using rasmapper \n",
    "\n",
    " 1. Pull results and other data from s3 \n",
    " - Create xml input file\n",
    " - Call `Mapper64\\RasComputeMaps`\n",
    " - Copy results to s3 output location\n"
   ]
  },
  {
   "cell_type": "code",
   "execution_count": null,
   "metadata": {},
   "outputs": [],
   "source": [
    "#! aws s3 cp s3://probmodelingrepository/Natchitoches-LA/ProductionRuns/outputs/Pluvial/E006/RedRiverCWMS_Trim.p01.hdf processing/RedRiverCWMS_Trim.p01.hdf\n",
    "#! aws s3 cp s3://probmodelingrepository/Natchitoches-LA/ProductionRuns/inputs/Pluvial/Terrain/topo19.hdf processing/topo19.hdf\n",
    "#! aws s3 cp s3://probmodelingrepository/Natchitoches-LA/ProductionRuns/inputs/Pluvial/Terrain/topo19.topo_19.tif processing/topo19.topo_19.tif\n",
    "#! aws s3 cp s3://probmodelingrepository/Natchitoches-LA/ProductionRuns/inputs/Pluvial/Terrain/topo19.vrt processing/topo19.vrt\n",
    "#! aws s3 cp s3://probmodelingrepository/Natchitoches-LA/ProductionRuns/inputs/Pluvial/Projection.prj processing/Projection.prj"
   ]
  },
  {
   "cell_type": "code",
   "execution_count": null,
   "metadata": {},
   "outputs": [],
   "source": [
    "import subprocess\n",
    "import os"
   ]
  },
  {
   "cell_type": "markdown",
   "metadata": {},
   "source": [
    "##### Project specific arguments"
   ]
  },
  {
   "cell_type": "code",
   "execution_count": null,
   "metadata": {},
   "outputs": [],
   "source": [
    "terrain = \"topo19\"\n",
    "project = \"RedRiverCWMS_Trim\"\n",
    "projection = \"Projection.prj\"\n",
    "planID = '01'\n",
    "\n",
    "planFile = \"{}.p{}.hdf\".format(project, planID)"
   ]
  },
  {
   "cell_type": "markdown",
   "metadata": {},
   "source": [
    "##### Need to verify results consistent with RasMapper (e.g. hybrid interpolation approach used)"
   ]
  },
  {
   "cell_type": "code",
   "execution_count": null,
   "metadata": {},
   "outputs": [],
   "source": [
    "def write_rasmap_file(projection, planFile, terrain):\n",
    "    xmldata =  \"\"\"<RASMapper>\\n  <RASProjectionFilename Filename=\".\\{0}\" />\n",
    "      <Results>\n",
    "        <Layer Type=\"RASResults\" Filename=\".\\{1}\">\n",
    "          <Layer Name=\"elevation\" Type=\"RASResultsMap\">\n",
    "          <MapParameters MapType=\"elevation\" OutputMode=\"Stored Current Terrain\" Terrain=\"{2}\" ProfileIndex=\"2147483647\" />\n",
    "          </Layer>\n",
    "        </Layer>\n",
    "      </Results>\n",
    "      <Terrains>\n",
    "        <Layer Name=\"{2}\" Type=\"TerrainLayer\" Filename=\".\\{2}.hdf\">\n",
    "          <ResampleMethod>near</ResampleMethod>\n",
    "        </Layer>\n",
    "      </Terrains>\n",
    "    <RenderMode>hybrid</RenderMode>\n",
    "    <MarksWarpMethod>False</MarksWarpMethod>\\n</RASMapper>\"\"\".format(projection, planFile, terrain)\n",
    "    return xmldata\n",
    "\n",
    "def check_map_created(pipe_text):\n",
    "    if pipe_text.split('\\r\\n')[-2] !='Completed storing 1 results map layer':\n",
    "        print(pipe_text)\n",
    "    else:\n",
    "        return True\n",
    "    \n",
    "def rename_output(project, wkdir=r\"C:\\Users\\Administrator\\Desktop\\processing\"):\n",
    "    # output_dir will be automatically created and named using the plan name\n",
    "    output_dir_name = [d for d in os.listdir(wkdir) if os.path.isdir(os.path.join(wkdir, d))][0]\n",
    "    output_dir_path = os.path.join(wkdir,'{}'.format(output_dir_name))\n",
    "\n",
    "    # may want to add an assert here or in the main() call.\n",
    "    files =  os.listdir(output_dir_path)\n",
    "    \n",
    "    for rawFilename in files:\n",
    "        updateFilename = 'WSE_{}_{}.{}'.format(project, output_dir_name, rawFilename.split('.')[-1])\n",
    "        processing_dirs = os.listdir(wkdir) \n",
    "\n",
    "        rasmap_output_file = os.path.join(wkdir, output_dir_name, rawFilename)\n",
    "        s3_output_file     = os.path.join(wkdir, output_dir_name, updateFilename)\n",
    "\n",
    "        os.rename(rasmap_output_file, s3_output_file)"
   ]
  },
  {
   "cell_type": "markdown",
   "metadata": {},
   "source": [
    "##### Write xml input file"
   ]
  },
  {
   "cell_type": "code",
   "execution_count": null,
   "metadata": {},
   "outputs": [],
   "source": [
    "rasmap_xml = write_rasmap_file(projection, planFile, terrain)\n",
    "with open('processing/{}.rasmap'.format(project), 'w') as f: f.write(rasmap_xml)"
   ]
  },
  {
   "cell_type": "markdown",
   "metadata": {},
   "source": [
    "##### Create compute argument strings"
   ]
  },
  {
   "cell_type": "code",
   "execution_count": null,
   "metadata": {},
   "outputs": [],
   "source": [
    "f1 = r\"C:\\Users\\Administrator\\Desktop\\processing\\{}.rasmap\".format(project)\n",
    "f2 = r\"C:\\Users\\Administrator\\Desktop\\processing\\{}\".format(plan)"
   ]
  },
  {
   "cell_type": "markdown",
   "metadata": {},
   "source": [
    "##### Call RasComputeMaps"
   ]
  },
  {
   "cell_type": "code",
   "execution_count": null,
   "metadata": {},
   "outputs": [],
   "source": [
    "cmd = r\"C:\\Users\\Administrator\\Desktop\\Mapper64\\RasComputeMaps.exe\"\n",
    "\n",
    "pipe = subprocess.Popen([cmd, f1, f2], stdout=subprocess.PIPE)\n",
    "\n",
    "pipe_text = pipe.communicate()[0].decode(\"utf-8\")\n",
    "check_map_created(pipe_text)\n",
    "\n",
    "assert check_map_created(pipe_text), 'Error Creating Map'"
   ]
  },
  {
   "cell_type": "markdown",
   "metadata": {},
   "source": [
    "##### Rename output, garbage collection"
   ]
  },
  {
   "cell_type": "code",
   "execution_count": null,
   "metadata": {},
   "outputs": [],
   "source": [
    "rename_output(project)"
   ]
  },
  {
   "cell_type": "code",
   "execution_count": null,
   "metadata": {},
   "outputs": [],
   "source": [
    "### todo:\n",
    "\n",
    "# Copy to s3\n",
    "# remove local copies/dirs\n",
    "# add iterator"
   ]
  }
 ],
 "metadata": {
  "kernelspec": {
   "display_name": "Python 3",
   "language": "python",
   "name": "python3"
  },
  "language_info": {
   "codemirror_mode": {
    "name": "ipython",
    "version": 3
   },
   "file_extension": ".py",
   "mimetype": "text/x-python",
   "name": "python",
   "nbconvert_exporter": "python",
   "pygments_lexer": "ipython3",
   "version": "3.6.5"
  }
 },
 "nbformat": 4,
 "nbformat_minor": 2
}
