{
 "cells": [
  {
   "cell_type": "markdown",
   "metadata": {},
   "source": [
    "## Papermill Sampler Operation\n",
    "\n",
    "__Description__: Tool to calculate the mean flow frequency curve, specify a range of annual exceedance probabilities with corresponding weights, and assign those weights to discharge events. For additional details, see the [Sampler Operation Wiki](https://github.com/Dewberry/probmod-tools/wiki/Sampler-Operation).\n",
    "\n",
    "__Input__: [HEC-SSP](https://www.hec.usace.army.mil/software/hec-ssp/) .rpt files containing flow frequency data for a specific USGS Stream Gage calculated at a range of confidence limits, and the following notebooks: `SSP_to_Mean_Curve`, `Stratified_Sampler`, and `Make_Production_Run_List`.\n",
    "\n",
    "__Output__: Excel workbook with a sheet for the mean flow frequency curve table, the annual exceedance probability (AEP) vs weight table, and the discharge verses weight table.\n",
    "\n",
    "\n",
    "---"
   ]
  },
  {
   "cell_type": "markdown",
   "metadata": {},
   "source": [
    "### Load libraries:"
   ]
  },
  {
   "cell_type": "code",
   "execution_count": 1,
   "metadata": {},
   "outputs": [],
   "source": [
    "import sys\n",
    "sys.path.append('../../core')\n",
    "from nb_libraries import*\n",
    "from fluvial_hydro import*"
   ]
  },
  {
   "cell_type": "markdown",
   "metadata": {},
   "source": [
    "### Specify the location to save the outputs:"
   ]
  },
  {
   "cell_type": "code",
   "execution_count": 2,
   "metadata": {},
   "outputs": [],
   "source": [
    "output_path = r'C:\\Users\\sputnam\\Desktop\\Outputs'\n",
    "\n",
    "if os.path.isdir(output_path)==False: #If the desired path does not exist, create it.\n",
    "    os.mkdir(output_path)    "
   ]
  },
  {
   "cell_type": "markdown",
   "metadata": {},
   "source": [
    "### 1) Run SSP_to_Mean_Curve Notebook:"
   ]
  },
  {
   "cell_type": "markdown",
   "metadata": {},
   "source": [
    "##### Specify: "
   ]
  },
  {
   "cell_type": "code",
   "execution_count": 3,
   "metadata": {},
   "outputs": [],
   "source": [
    "gage_ID = '01651000' #The USGS Station ID \n",
    "\n",
    "root_dir = r'C:\\Users\\sputnam\\Desktop\\Inputs' #The path where the SSP files can be found\n",
    "\n",
    "version = 2_2 #The version of HEC-SSP used to calculate the .rpt files. Either 2.1 or 2.2, specified as 2_1 or 2_2 here.\n",
    "\n",
    "min_val = 2.0    #The minimum recurrance interval\n",
    "\n",
    "max_val = 3000.0 #The maximum recurrance interval\n",
    "\n",
    "nbin = 100 #The number of recurrance intervals/AEPs"
   ]
  },
  {
   "cell_type": "markdown",
   "metadata": {},
   "source": [
    "##### Run:"
   ]
  },
  {
   "cell_type": "code",
   "execution_count": 4,
   "metadata": {},
   "outputs": [
    {
     "data": {
      "application/vnd.jupyter.widget-view+json": {
       "model_id": "e4a7b115524148f9ad9a05f3d3cef9ba",
       "version_major": 2,
       "version_minor": 0
      },
      "text/plain": [
       "HBox(children=(IntProgress(value=0, max=33), HTML(value='')))"
      ]
     },
     "metadata": {},
     "output_type": "display_data"
    },
    {
     "name": "stdout",
     "output_type": "stream",
     "text": [
      "\n"
     ]
    }
   ],
   "source": [
    "out_nb1 = os.path.join(output_path,'SSP_to_Mean_Curve_{0}.ipynb'.format(gage_ID))\n",
    "nb1 = pm.execute_notebook('SSP_to_Mean_Curve.ipynb',\n",
    "                          out_nb1, \n",
    "                          parameters={'root_dir':root_dir, 'gage_ID':gage_ID, 'version':version})"
   ]
  },
  {
   "cell_type": "markdown",
   "metadata": {},
   "source": [
    "##### Display results:"
   ]
  },
  {
   "cell_type": "code",
   "execution_count": 5,
   "metadata": {},
   "outputs": [
    {
     "data": {
      "text/html": [
       "<div>\n",
       "<style scoped>\n",
       "    .dataframe tbody tr th:only-of-type {\n",
       "        vertical-align: middle;\n",
       "    }\n",
       "\n",
       "    .dataframe tbody tr th {\n",
       "        vertical-align: top;\n",
       "    }\n",
       "\n",
       "    .dataframe thead th {\n",
       "        text-align: right;\n",
       "    }\n",
       "</style>\n",
       "<table border=\"1\" class=\"dataframe\">\n",
       "  <thead>\n",
       "    <tr style=\"text-align: right;\">\n",
       "      <th></th>\n",
       "      <th>Q_Mean_cfs</th>\n",
       "      <th>Q_Median_cfs</th>\n",
       "    </tr>\n",
       "    <tr>\n",
       "      <th>AEP</th>\n",
       "      <th></th>\n",
       "      <th></th>\n",
       "    </tr>\n",
       "  </thead>\n",
       "  <tbody>\n",
       "    <tr>\n",
       "      <th>0.90</th>\n",
       "      <td>1677.026488</td>\n",
       "      <td>1674.7</td>\n",
       "    </tr>\n",
       "    <tr>\n",
       "      <th>0.50</th>\n",
       "      <td>3374.838485</td>\n",
       "      <td>3338.6</td>\n",
       "    </tr>\n",
       "    <tr>\n",
       "      <th>0.20</th>\n",
       "      <td>5932.199123</td>\n",
       "      <td>5821.0</td>\n",
       "    </tr>\n",
       "    <tr>\n",
       "      <th>0.10</th>\n",
       "      <td>8248.414233</td>\n",
       "      <td>8056.3</td>\n",
       "    </tr>\n",
       "    <tr>\n",
       "      <th>0.05</th>\n",
       "      <td>11160.171869</td>\n",
       "      <td>10731.8</td>\n",
       "    </tr>\n",
       "  </tbody>\n",
       "</table>\n",
       "</div>"
      ],
      "text/plain": [
       "        Q_Mean_cfs  Q_Median_cfs\n",
       "AEP                             \n",
       "0.90   1677.026488        1674.7\n",
       "0.50   3374.838485        3338.6\n",
       "0.20   5932.199123        5821.0\n",
       "0.10   8248.414233        8056.3\n",
       "0.05  11160.171869       10731.8"
      ]
     },
     "metadata": {},
     "output_type": "display_data"
    }
   ],
   "source": [
    "nb1 = sb.read_notebook(out_nb1)\n",
    "\n",
    "mean_curve = format_mean_curve(nb1.scraps['mean_curve'][1])\n",
    "\n",
    "display(mean_curve.head(5))"
   ]
  },
  {
   "cell_type": "markdown",
   "metadata": {},
   "source": [
    "### 2) Run Stratified_Sampler Notebook:"
   ]
  },
  {
   "cell_type": "markdown",
   "metadata": {},
   "source": [
    "##### Run:"
   ]
  },
  {
   "cell_type": "code",
   "execution_count": 6,
   "metadata": {},
   "outputs": [
    {
     "data": {
      "application/vnd.jupyter.widget-view+json": {
       "model_id": "81df9a01a7dd4368bba2dc9849c790fb",
       "version_major": 2,
       "version_minor": 0
      },
      "text/plain": [
       "HBox(children=(IntProgress(value=0, max=14), HTML(value='')))"
      ]
     },
     "metadata": {},
     "output_type": "display_data"
    },
    {
     "name": "stdout",
     "output_type": "stream",
     "text": [
      "\n"
     ]
    }
   ],
   "source": [
    "out_nb2 = os.path.join(output_path,'Stratified_Sampler_{0}.ipynb'.format(gage_ID))\n",
    "nb2 = pm.execute_notebook(\"Stratified_Sampler.ipynb\", out_nb2, \n",
    "                        parameters={'root_dir':root_dir, 'gage_ID':gage_ID, 'min_val':min_val, 'max_val':max_val, 'nbin':nbin})"
   ]
  },
  {
   "cell_type": "markdown",
   "metadata": {},
   "source": [
    "##### Display results:"
   ]
  },
  {
   "cell_type": "code",
   "execution_count": 7,
   "metadata": {},
   "outputs": [
    {
     "data": {
      "text/html": [
       "<div>\n",
       "<style scoped>\n",
       "    .dataframe tbody tr th:only-of-type {\n",
       "        vertical-align: middle;\n",
       "    }\n",
       "\n",
       "    .dataframe tbody tr th {\n",
       "        vertical-align: top;\n",
       "    }\n",
       "\n",
       "    .dataframe thead th {\n",
       "        text-align: right;\n",
       "    }\n",
       "</style>\n",
       "<table border=\"1\" class=\"dataframe\">\n",
       "  <thead>\n",
       "    <tr style=\"text-align: right;\">\n",
       "      <th></th>\n",
       "      <th>AEP</th>\n",
       "      <th>Weight</th>\n",
       "    </tr>\n",
       "  </thead>\n",
       "  <tbody>\n",
       "    <tr>\n",
       "      <th>E0001</th>\n",
       "      <td>0.482369</td>\n",
       "      <td>0.035594</td>\n",
       "    </tr>\n",
       "    <tr>\n",
       "      <th>E0002</th>\n",
       "      <td>0.448352</td>\n",
       "      <td>0.032774</td>\n",
       "    </tr>\n",
       "    <tr>\n",
       "      <th>E0003</th>\n",
       "      <td>0.416733</td>\n",
       "      <td>0.030463</td>\n",
       "    </tr>\n",
       "    <tr>\n",
       "      <th>E0004</th>\n",
       "      <td>0.387344</td>\n",
       "      <td>0.028315</td>\n",
       "    </tr>\n",
       "    <tr>\n",
       "      <th>E0005</th>\n",
       "      <td>0.360028</td>\n",
       "      <td>0.026318</td>\n",
       "    </tr>\n",
       "  </tbody>\n",
       "</table>\n",
       "</div>"
      ],
      "text/plain": [
       "            AEP    Weight\n",
       "E0001  0.482369  0.035594\n",
       "E0002  0.448352  0.032774\n",
       "E0003  0.416733  0.030463\n",
       "E0004  0.387344  0.028315\n",
       "E0005  0.360028  0.026318"
      ]
     },
     "metadata": {},
     "output_type": "display_data"
    }
   ],
   "source": [
    "nb2 = sb.read_notebook(out_nb2)\n",
    "\n",
    "AEP_Weights = pd.DataFrame.from_dict(nb2.scraps['AEP_Weights'][1])\n",
    "\n",
    "display(AEP_Weights.head(5))"
   ]
  },
  {
   "cell_type": "markdown",
   "metadata": {},
   "source": [
    "### 3) Run Make_Production_Run_List Notebook: "
   ]
  },
  {
   "cell_type": "markdown",
   "metadata": {},
   "source": [
    "##### Run:"
   ]
  },
  {
   "cell_type": "code",
   "execution_count": 8,
   "metadata": {},
   "outputs": [
    {
     "data": {
      "application/vnd.jupyter.widget-view+json": {
       "model_id": "dcbfbbc0f7a7475f9faf3a19d05cbbc8",
       "version_major": 2,
       "version_minor": 0
      },
      "text/plain": [
       "HBox(children=(IntProgress(value=0, max=15), HTML(value='')))"
      ]
     },
     "metadata": {},
     "output_type": "display_data"
    },
    {
     "name": "stdout",
     "output_type": "stream",
     "text": [
      "\n"
     ]
    }
   ],
   "source": [
    "out_nb3 = os.path.join(output_path,'Make_Production_Run_List_{0}.ipynb'.format(gage_ID))\n",
    "nb3 = pm.execute_notebook(\"Make_Production_Run_List.ipynb\", out_nb3, \n",
    "                        parameters={'root_dir':root_dir, 'gage_ID':gage_ID, 'mean_curve':mean_curve.to_dict(),'AEP_Weights':AEP_Weights.to_dict()})"
   ]
  },
  {
   "cell_type": "markdown",
   "metadata": {},
   "source": [
    "##### Display results:"
   ]
  },
  {
   "cell_type": "code",
   "execution_count": 9,
   "metadata": {},
   "outputs": [
    {
     "data": {
      "text/html": [
       "<div>\n",
       "<style scoped>\n",
       "    .dataframe tbody tr th:only-of-type {\n",
       "        vertical-align: middle;\n",
       "    }\n",
       "\n",
       "    .dataframe tbody tr th {\n",
       "        vertical-align: top;\n",
       "    }\n",
       "\n",
       "    .dataframe thead th {\n",
       "        text-align: right;\n",
       "    }\n",
       "</style>\n",
       "<table border=\"1\" class=\"dataframe\">\n",
       "  <thead>\n",
       "    <tr style=\"text-align: right;\">\n",
       "      <th></th>\n",
       "      <th>AEP</th>\n",
       "      <th>Q_Mean_cfs</th>\n",
       "      <th>Q_Median_cfs</th>\n",
       "      <th>RI</th>\n",
       "      <th>Weight</th>\n",
       "    </tr>\n",
       "  </thead>\n",
       "  <tbody>\n",
       "    <tr>\n",
       "      <th>E0001</th>\n",
       "      <td>0.482369</td>\n",
       "      <td>3476.322534</td>\n",
       "      <td>3437.526589</td>\n",
       "      <td>2.073100</td>\n",
       "      <td>0.035594</td>\n",
       "    </tr>\n",
       "    <tr>\n",
       "      <th>E0002</th>\n",
       "      <td>0.448352</td>\n",
       "      <td>3681.632218</td>\n",
       "      <td>3637.536355</td>\n",
       "      <td>2.230391</td>\n",
       "      <td>0.032774</td>\n",
       "    </tr>\n",
       "    <tr>\n",
       "      <th>E0003</th>\n",
       "      <td>0.416733</td>\n",
       "      <td>3885.535115</td>\n",
       "      <td>3836.016550</td>\n",
       "      <td>2.399617</td>\n",
       "      <td>0.030463</td>\n",
       "    </tr>\n",
       "    <tr>\n",
       "      <th>E0004</th>\n",
       "      <td>0.387344</td>\n",
       "      <td>4088.541263</td>\n",
       "      <td>4033.474737</td>\n",
       "      <td>2.581683</td>\n",
       "      <td>0.028315</td>\n",
       "    </tr>\n",
       "    <tr>\n",
       "      <th>E0005</th>\n",
       "      <td>0.360028</td>\n",
       "      <td>4291.058977</td>\n",
       "      <td>4230.317069</td>\n",
       "      <td>2.777562</td>\n",
       "      <td>0.026318</td>\n",
       "    </tr>\n",
       "  </tbody>\n",
       "</table>\n",
       "</div>"
      ],
      "text/plain": [
       "            AEP   Q_Mean_cfs  Q_Median_cfs        RI    Weight\n",
       "E0001  0.482369  3476.322534   3437.526589  2.073100  0.035594\n",
       "E0002  0.448352  3681.632218   3637.536355  2.230391  0.032774\n",
       "E0003  0.416733  3885.535115   3836.016550  2.399617  0.030463\n",
       "E0004  0.387344  4088.541263   4033.474737  2.581683  0.028315\n",
       "E0005  0.360028  4291.058977   4230.317069  2.777562  0.026318"
      ]
     },
     "metadata": {},
     "output_type": "display_data"
    }
   ],
   "source": [
    "nb3 = sb.read_notebook(out_nb3)\n",
    "\n",
    "ProRunList = pd.DataFrame.from_dict(nb3.scraps['ProRunList'][1])\n",
    "\n",
    "display(ProRunList.head(5))"
   ]
  },
  {
   "cell_type": "markdown",
   "metadata": {},
   "source": [
    "### 4) Save results:"
   ]
  },
  {
   "cell_type": "markdown",
   "metadata": {},
   "source": [
    "##### Save to Excel:"
   ]
  },
  {
   "cell_type": "code",
   "execution_count": 10,
   "metadata": {},
   "outputs": [
    {
     "name": "stderr",
     "output_type": "stream",
     "text": [
      "c:\\users\\sputnam\\appdata\\local\\continuum\\anaconda3\\lib\\site-packages\\nbconvert\\filters\\datatypefilter.py:41: UserWarning: Your element with mimetype(s) dict_keys(['application/scrapbook.scrap.json+json']) is not able to be represented.\n",
      "  mimetypes=output.keys())\n",
      "c:\\users\\sputnam\\appdata\\local\\continuum\\anaconda3\\lib\\site-packages\\nbconvert\\filters\\datatypefilter.py:41: UserWarning: Your element with mimetype(s) dict_keys(['application/scrapbook.scrap.json+json']) is not able to be represented.\n",
      "  mimetypes=output.keys())\n",
      "c:\\users\\sputnam\\appdata\\local\\continuum\\anaconda3\\lib\\site-packages\\nbconvert\\filters\\datatypefilter.py:41: UserWarning: Your element with mimetype(s) dict_keys(['application/scrapbook.scrap.json+json']) is not able to be represented.\n",
      "  mimetypes=output.keys())\n"
     ]
    }
   ],
   "source": [
    "with pd.ExcelWriter(os.path.join(output_path,'Sampler_Operation_{0}.xlsx'.format(gage_ID))) as writer:\n",
    "    mean_curve.to_excel(writer, sheet_name='Mean Curve') \n",
    "    \n",
    "    AEP_Weights.to_excel(writer, sheet_name='AEP Weights')\n",
    "    \n",
    "    ProRunList.to_excel(writer, sheet_name='Production Run List')\n",
    "    \n",
    "! jupyter nbconvert $out_nb1 --log-level WARN\n",
    "! jupyter nbconvert $out_nb2 --log-level WARN\n",
    "! jupyter nbconvert $out_nb3 --log-level WARN    "
   ]
  },
  {
   "cell_type": "markdown",
   "metadata": {},
   "source": [
    "# End"
   ]
  }
 ],
 "metadata": {
  "kernelspec": {
   "display_name": "Python 3",
   "language": "python",
   "name": "python3"
  },
  "language_info": {
   "codemirror_mode": {
    "name": "ipython",
    "version": 3
   },
   "file_extension": ".py",
   "mimetype": "text/x-python",
   "name": "python",
   "nbconvert_exporter": "python",
   "pygments_lexer": "ipython3",
   "version": "3.7.1"
  }
 },
 "nbformat": 4,
 "nbformat_minor": 4
}
