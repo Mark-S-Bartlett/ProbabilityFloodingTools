{
 "cells": [
  {
   "cell_type": "markdown",
   "metadata": {},
   "source": [
    "# Development Notebooks\n",
    "\n",
    "## Sampling & Weighting\n",
    "\n",
    "Calcuates the base/breach scenario weight for a specific number of annual exceedance probabilities (AEPs) within a given range of AEP. The weights are assigned to specific events using the mean flow frequency (AEP and discharge) to relate the event's peak discharge (found in PeakFlow_MetaData.csv) to the AEP and its corresponding weight. The mean flow frequency curve is calculated using the discharge for a range of AEPs and confidence limits (CLs) from HEC-SSP. The weight for a specific event is then divided among the base and breach scenarios for that event using Augusta_Fluvial_weights.csv. The weight of the breach scenarios are then adjusted by the number of breach scenarios and the extra weight is added to the base. The resulting weights are used to calculate the average annual loss (AAL) for that location. \n",
    "\n",
    "Dependencies: .rpt files for the specific gage, peak discharge for modeled events from PeakFlow_MetaData.csv, base/breach scenario proportions from Augusta_Fluvial_weights.csv, and libraries in pmtools.\n",
    "\n",
    "\n",
    "sputnam@dewberry.com\n",
    "\n",
    "3.4.2019\n",
    "\n",
    "---"
   ]
  },
  {
   "cell_type": "markdown",
   "metadata": {},
   "source": [
    "### Specify the number of and range for the AEP:"
   ]
  },
  {
   "cell_type": "code",
   "execution_count": 1,
   "metadata": {},
   "outputs": [],
   "source": [
    "min_val=2.0 #The minimum recurrance interval\n",
    "max_val=3000.0 #(r); the maximum recurrance interval. 11500 is approximately the max we need to capture the most extreme events\n",
    "\n",
    "nbin=300 #[15,30 50,75,100,150]; [15,20,40,60,80,100,120,150,200,250] #The number of recurrance intervals/AEPs which is also the number of bins over the interval defined above\n",
    "\n",
    "nevents=1 #(s); the number of events we want to find whose discharge is closest to the mean\n",
    "\n",
    "gage_ID='02197000' # USGS stream gage ID for Augusta, GA "
   ]
  },
  {
   "cell_type": "markdown",
   "metadata": {},
   "source": [
    "### Load libraries and Python options:"
   ]
  },
  {
   "cell_type": "code",
   "execution_count": 2,
   "metadata": {},
   "outputs": [],
   "source": [
    "import sys\n",
    "sys.path.append('../../pmtools')\n",
    "from ssp_ops import* #If using outputs from the older version of HEC-SSP, use this library\n",
    "from sampler import *\n",
    "from stats_plotter import *\n",
    "from glob import glob\n",
    "%matplotlib inline\n",
    "#pd.options.mode.chained_assignment = None #Add the slice from dataframe warnings"
   ]
  },
  {
   "cell_type": "markdown",
   "metadata": {},
   "source": [
    "### 1. Calculate the mean flow frequency curve using the results from HEC-SSP (USACE Method):"
   ]
  },
  {
   "cell_type": "markdown",
   "metadata": {},
   "source": [
    "##### Load the output files from HEC-SSP:"
   ]
  },
  {
   "cell_type": "code",
   "execution_count": 3,
   "metadata": {},
   "outputs": [
    {
     "name": "stdout",
     "output_type": "stream",
     "text": [
      "0 02197000_60.rpt\n",
      "1 02197000_70.rpt\n",
      "2 02197000_80.rpt\n",
      "3 02197000_90.rpt\n",
      "4 02197000_95.rpt\n",
      "5 02197000_99.rpt\n",
      "6 02197000_995.rpt\n",
      "7 02197000_999.rpt\n"
     ]
    }
   ],
   "source": [
    "os.chdir('..')\n",
    "root_dir=os.getcwd() #The root directory, which is set to the current working directory\n",
    "\n",
    "ssp_results = glob(os.path.join(os.path.join(root_dir, '**',gage_ID),'**','*.rpt'), recursive=True) # Find a folder labeled with the gage ID and then all of the .rpt files within that folder.\n",
    "\n",
    "for i, f in enumerate(ssp_results): # Print list of all of the .rpt files for the specific gage\n",
    "    print(i, os.path.basename(f)) "
   ]
  },
  {
   "cell_type": "markdown",
   "metadata": {},
   "source": [
    "#####  Create a summary table:"
   ]
  },
  {
   "cell_type": "code",
   "execution_count": 4,
   "metadata": {},
   "outputs": [
    {
     "data": {
      "text/html": [
       "<div>\n",
       "<style scoped>\n",
       "    .dataframe tbody tr th:only-of-type {\n",
       "        vertical-align: middle;\n",
       "    }\n",
       "\n",
       "    .dataframe tbody tr th {\n",
       "        vertical-align: top;\n",
       "    }\n",
       "\n",
       "    .dataframe thead th {\n",
       "        text-align: right;\n",
       "    }\n",
       "</style>\n",
       "<table border=\"1\" class=\"dataframe\">\n",
       "  <thead>\n",
       "    <tr style=\"text-align: right;\">\n",
       "      <th></th>\n",
       "      <th>0.001</th>\n",
       "      <th>0.005</th>\n",
       "      <th>0.01</th>\n",
       "      <th>0.05</th>\n",
       "      <th>0.1</th>\n",
       "      <th>0.2</th>\n",
       "      <th>0.3</th>\n",
       "      <th>0.4</th>\n",
       "      <th>0.5</th>\n",
       "      <th>0.6</th>\n",
       "      <th>0.7</th>\n",
       "      <th>0.8</th>\n",
       "      <th>0.9</th>\n",
       "      <th>0.95</th>\n",
       "      <th>0.99</th>\n",
       "      <th>0.995</th>\n",
       "      <th>0.999</th>\n",
       "    </tr>\n",
       "    <tr>\n",
       "      <th>AEP</th>\n",
       "      <th></th>\n",
       "      <th></th>\n",
       "      <th></th>\n",
       "      <th></th>\n",
       "      <th></th>\n",
       "      <th></th>\n",
       "      <th></th>\n",
       "      <th></th>\n",
       "      <th></th>\n",
       "      <th></th>\n",
       "      <th></th>\n",
       "      <th></th>\n",
       "      <th></th>\n",
       "      <th></th>\n",
       "      <th></th>\n",
       "      <th></th>\n",
       "      <th></th>\n",
       "    </tr>\n",
       "  </thead>\n",
       "  <tbody>\n",
       "    <tr>\n",
       "      <th>1.000000e-09</th>\n",
       "      <td>1035320.6</td>\n",
       "      <td>1260401.3</td>\n",
       "      <td>1402517.7</td>\n",
       "      <td>1970018.6</td>\n",
       "      <td>2447269.1</td>\n",
       "      <td>3325180.7</td>\n",
       "      <td>4303814.7</td>\n",
       "      <td>5533082.4</td>\n",
       "      <td>7218988.4</td>\n",
       "      <td>9767877.4</td>\n",
       "      <td>14183624.0</td>\n",
       "      <td>23834445.6</td>\n",
       "      <td>60153136.0</td>\n",
       "      <td>168829997.1</td>\n",
       "      <td>1.320515e+09</td>\n",
       "      <td>2.315355e+09</td>\n",
       "      <td>7.391380e+09</td>\n",
       "    </tr>\n",
       "    <tr>\n",
       "      <th>2.000000e-09</th>\n",
       "      <td>970123.8</td>\n",
       "      <td>1172605.7</td>\n",
       "      <td>1299706.2</td>\n",
       "      <td>1802622.1</td>\n",
       "      <td>2220993.7</td>\n",
       "      <td>2982466.9</td>\n",
       "      <td>3821641.5</td>\n",
       "      <td>4864827.4</td>\n",
       "      <td>6280287.1</td>\n",
       "      <td>8394899.8</td>\n",
       "      <td>12005782.9</td>\n",
       "      <td>19744365.5</td>\n",
       "      <td>47905941.1</td>\n",
       "      <td>128484294.9</td>\n",
       "      <td>9.335400e+08</td>\n",
       "      <td>1.601023e+09</td>\n",
       "      <td>4.883666e+09</td>\n",
       "    </tr>\n",
       "    <tr>\n",
       "      <th>5.000000e-09</th>\n",
       "      <td>888342.3</td>\n",
       "      <td>1063690.0</td>\n",
       "      <td>1172905.9</td>\n",
       "      <td>1599860.7</td>\n",
       "      <td>1949971.8</td>\n",
       "      <td>2578327.3</td>\n",
       "      <td>3260386.0</td>\n",
       "      <td>4096686.7</td>\n",
       "      <td>5215490.8</td>\n",
       "      <td>6860775.3</td>\n",
       "      <td>9617202.0</td>\n",
       "      <td>15373834.1</td>\n",
       "      <td>35418865.5</td>\n",
       "      <td>89488941.6</td>\n",
       "      <td>5.900284e+08</td>\n",
       "      <td>9.828653e+08</td>\n",
       "      <td>2.823884e+09</td>\n",
       "    </tr>\n",
       "    <tr>\n",
       "      <th>1.000000e-08</th>\n",
       "      <td>829676.9</td>\n",
       "      <td>986435.0</td>\n",
       "      <td>1083497.6</td>\n",
       "      <td>1459483.2</td>\n",
       "      <td>1764454.5</td>\n",
       "      <td>2306019.8</td>\n",
       "      <td>2887153.9</td>\n",
       "      <td>3592338.2</td>\n",
       "      <td>4525696.6</td>\n",
       "      <td>5882011.5</td>\n",
       "      <td>8121830.4</td>\n",
       "      <td>12709182.6</td>\n",
       "      <td>28161535.2</td>\n",
       "      <td>68032158.1</td>\n",
       "      <td>4.168973e+08</td>\n",
       "      <td>6.794264e+08</td>\n",
       "      <td>1.866180e+09</td>\n",
       "    </tr>\n",
       "    <tr>\n",
       "      <th>2.000000e-08</th>\n",
       "      <td>773686.5</td>\n",
       "      <td>913407.3</td>\n",
       "      <td>999409.4</td>\n",
       "      <td>1329510.4</td>\n",
       "      <td>1594351.2</td>\n",
       "      <td>2059689.0</td>\n",
       "      <td>2553307.8</td>\n",
       "      <td>3146100.0</td>\n",
       "      <td>3922352.2</td>\n",
       "      <td>5037011.7</td>\n",
       "      <td>6851469.5</td>\n",
       "      <td>10495965.2</td>\n",
       "      <td>22373655.4</td>\n",
       "      <td>51693448.2</td>\n",
       "      <td>2.944834e+08</td>\n",
       "      <td>4.695821e+08</td>\n",
       "      <td>1.233322e+09</td>\n",
       "    </tr>\n",
       "  </tbody>\n",
       "</table>\n",
       "</div>"
      ],
      "text/plain": [
       "                  0.001      0.005       0.01       0.05        0.1  \\\n",
       "AEP                                                                   \n",
       "1.000000e-09  1035320.6  1260401.3  1402517.7  1970018.6  2447269.1   \n",
       "2.000000e-09   970123.8  1172605.7  1299706.2  1802622.1  2220993.7   \n",
       "5.000000e-09   888342.3  1063690.0  1172905.9  1599860.7  1949971.8   \n",
       "1.000000e-08   829676.9   986435.0  1083497.6  1459483.2  1764454.5   \n",
       "2.000000e-08   773686.5   913407.3   999409.4  1329510.4  1594351.2   \n",
       "\n",
       "                    0.2        0.3        0.4        0.5        0.6  \\\n",
       "AEP                                                                   \n",
       "1.000000e-09  3325180.7  4303814.7  5533082.4  7218988.4  9767877.4   \n",
       "2.000000e-09  2982466.9  3821641.5  4864827.4  6280287.1  8394899.8   \n",
       "5.000000e-09  2578327.3  3260386.0  4096686.7  5215490.8  6860775.3   \n",
       "1.000000e-08  2306019.8  2887153.9  3592338.2  4525696.6  5882011.5   \n",
       "2.000000e-08  2059689.0  2553307.8  3146100.0  3922352.2  5037011.7   \n",
       "\n",
       "                     0.7         0.8         0.9         0.95          0.99  \\\n",
       "AEP                                                                           \n",
       "1.000000e-09  14183624.0  23834445.6  60153136.0  168829997.1  1.320515e+09   \n",
       "2.000000e-09  12005782.9  19744365.5  47905941.1  128484294.9  9.335400e+08   \n",
       "5.000000e-09   9617202.0  15373834.1  35418865.5   89488941.6  5.900284e+08   \n",
       "1.000000e-08   8121830.4  12709182.6  28161535.2   68032158.1  4.168973e+08   \n",
       "2.000000e-08   6851469.5  10495965.2  22373655.4   51693448.2  2.944834e+08   \n",
       "\n",
       "                     0.995         0.999  \n",
       "AEP                                       \n",
       "1.000000e-09  2.315355e+09  7.391380e+09  \n",
       "2.000000e-09  1.601023e+09  4.883666e+09  \n",
       "5.000000e-09  9.828653e+08  2.823884e+09  \n",
       "1.000000e-08  6.794264e+08  1.866180e+09  \n",
       "2.000000e-08  4.695821e+08  1.233322e+09  "
      ]
     },
     "execution_count": 4,
     "metadata": {},
     "output_type": "execute_result"
    }
   ],
   "source": [
    "df = make_ssp_table(ssp_results) #Create the data table using the .rpt files from above. \n",
    "\n",
    "if not np.all(np.diff([np.sum(df.iloc[:,i]) for i in range(df.shape[1])]) > 0): # Test to make sure that the sum of each column is increasing across the dataframe (with CL), if not set the table to none. \n",
    "    print(\"Q not increasing with CL as expected, check data\")\n",
    "    df=None\n",
    "\n",
    "df.head()"
   ]
  },
  {
   "cell_type": "markdown",
   "metadata": {},
   "source": [
    "##### Transform the SSP results:"
   ]
  },
  {
   "cell_type": "code",
   "execution_count": 5,
   "metadata": {},
   "outputs": [],
   "source": [
    "CL= list(map(float, df.columns)) #Extract the confidence limits from the table above\n",
    "\n",
    "AEP=df.index #Extract the annual exceedence probabilities from the table above\n",
    "\n",
    "data = np.log10(df) #Take the log10 of the discharge data contained within the summary table from above.\n",
    "\n",
    "CLz=zvar(CL) #Convert the confidence limits to their standard normal z variate\n",
    "\n",
    "AEPz=zvar(AEP) #Convert the annual exceedence probability to their standard normal z variate"
   ]
  },
  {
   "cell_type": "markdown",
   "metadata": {},
   "source": [
    "##### Determine the AEP for each flow and CL:"
   ]
  },
  {
   "cell_type": "code",
   "execution_count": 6,
   "metadata": {},
   "outputs": [],
   "source": [
    "Q=binQ(data) #Bin the log flow from the minimum to the maximum observed discharge for any confidence limit or annual exceeedance probability. The number of bins corresponds to the number of AEPs\n",
    "\n",
    "res=interp_AEP(data,Q,CLz,AEPz, Extrapolate=True) #Perform the interpolation/extrapolation to calculate the CL(z) and binned discharge (log). Choose either True or False where True indicates that you do want to extrapolate while False indicates that you want to only interpolate within the bounds of the minimum and maximum discharge for a specific CL  "
   ]
  },
  {
   "cell_type": "markdown",
   "metadata": {},
   "source": [
    "##### Transform the interpolated/extrapolated AEP results by taking the inverse of the standard normal z variate "
   ]
  },
  {
   "cell_type": "code",
   "execution_count": 7,
   "metadata": {},
   "outputs": [],
   "source": [
    "restrans=zvar_inv(res, CL) #Take the inverse of the normal zvariate and pass the original CL. Q is still in log10"
   ]
  },
  {
   "cell_type": "markdown",
   "metadata": {},
   "source": [
    "##### Calculate, transform, and plot the mean (expected value) of the AEP for each flow:"
   ]
  },
  {
   "cell_type": "code",
   "execution_count": 8,
   "metadata": {},
   "outputs": [
    {
     "data": {
      "image/png": "[encoded data removed]",
      "text/plain": [
       "<Figure size 864x432 with 1 Axes>"
      ]
     },
     "metadata": {
      "needs_background": "light"
     },
     "output_type": "display_data"
    }
   ],
   "source": [
    "AEPm=mean_AEP(restrans) #Calculate the mean (expected) value of the AEP for each flow; this mean is equal to the area under the CDF. Here we use the trapezoidal rule for integration. \n",
    "\n",
    "AEPmz=zvar(AEPm) #Transform this mean AEP to the standard normal z variate\n",
    "\n",
    "plot_ssp_meanmed(AEPz,data,AEPmz,Q) #Plot the mean and median AEP for each flow"
   ]
  },
  {
   "cell_type": "markdown",
   "metadata": {},
   "source": [
    "### 2. Load and plot the peak discharge for all 300 events for the Augusta Project:"
   ]
  },
  {
   "cell_type": "markdown",
   "metadata": {},
   "source": [
    "##### Load and sort the data:"
   ]
  },
  {
   "cell_type": "code",
   "execution_count": 9,
   "metadata": {},
   "outputs": [
    {
     "data": {
      "text/html": [
       "<div>\n",
       "<style scoped>\n",
       "    .dataframe tbody tr th:only-of-type {\n",
       "        vertical-align: middle;\n",
       "    }\n",
       "\n",
       "    .dataframe tbody tr th {\n",
       "        vertical-align: top;\n",
       "    }\n",
       "\n",
       "    .dataframe thead th {\n",
       "        text-align: right;\n",
       "    }\n",
       "</style>\n",
       "<table border=\"1\" class=\"dataframe\">\n",
       "  <thead>\n",
       "    <tr style=\"text-align: right;\">\n",
       "      <th></th>\n",
       "      <th>Event</th>\n",
       "      <th>5.0</th>\n",
       "      <th>10.0</th>\n",
       "      <th>20.0</th>\n",
       "      <th>30.0</th>\n",
       "      <th>40.0</th>\n",
       "      <th>50.0</th>\n",
       "      <th>60.0</th>\n",
       "      <th>70.0</th>\n",
       "      <th>80.0</th>\n",
       "      <th>90.0</th>\n",
       "      <th>95.0</th>\n",
       "      <th>Uniform Random Float</th>\n",
       "      <th>Final Peak Flow</th>\n",
       "    </tr>\n",
       "  </thead>\n",
       "  <tbody>\n",
       "    <tr>\n",
       "      <th>295</th>\n",
       "      <td>E281</td>\n",
       "      <td>825794.0</td>\n",
       "      <td>655402.0</td>\n",
       "      <td>524181.7</td>\n",
       "      <td>458867.0</td>\n",
       "      <td>415436.1</td>\n",
       "      <td>382277.8</td>\n",
       "      <td>354569.1</td>\n",
       "      <td>329597.2</td>\n",
       "      <td>305120.7</td>\n",
       "      <td>277535.2</td>\n",
       "      <td>258917.3</td>\n",
       "      <td>0.090489</td>\n",
       "      <td>687812</td>\n",
       "    </tr>\n",
       "    <tr>\n",
       "      <th>296</th>\n",
       "      <td>E271</td>\n",
       "      <td>745257.7</td>\n",
       "      <td>598999.4</td>\n",
       "      <td>484532.6</td>\n",
       "      <td>426849.0</td>\n",
       "      <td>388193.7</td>\n",
       "      <td>358504.8</td>\n",
       "      <td>333568.5</td>\n",
       "      <td>310988.9</td>\n",
       "      <td>288752.2</td>\n",
       "      <td>263556.0</td>\n",
       "      <td>246462.7</td>\n",
       "      <td>0.062290</td>\n",
       "      <td>709308</td>\n",
       "    </tr>\n",
       "    <tr>\n",
       "      <th>297</th>\n",
       "      <td>E295</td>\n",
       "      <td>952845.7</td>\n",
       "      <td>742812.5</td>\n",
       "      <td>584635.5</td>\n",
       "      <td>507232.8</td>\n",
       "      <td>456309.5</td>\n",
       "      <td>417747.3</td>\n",
       "      <td>385746.6</td>\n",
       "      <td>357091.5</td>\n",
       "      <td>329185.1</td>\n",
       "      <td>297962.5</td>\n",
       "      <td>277036.5</td>\n",
       "      <td>0.110418</td>\n",
       "      <td>726333</td>\n",
       "    </tr>\n",
       "    <tr>\n",
       "      <th>298</th>\n",
       "      <td>E300</td>\n",
       "      <td>1002775.5</td>\n",
       "      <td>776691.7</td>\n",
       "      <td>607771.1</td>\n",
       "      <td>525608.4</td>\n",
       "      <td>471756.3</td>\n",
       "      <td>431093.6</td>\n",
       "      <td>397432.4</td>\n",
       "      <td>367358.4</td>\n",
       "      <td>338136.2</td>\n",
       "      <td>305524.8</td>\n",
       "      <td>283721.1</td>\n",
       "      <td>0.125236</td>\n",
       "      <td>734062</td>\n",
       "    </tr>\n",
       "    <tr>\n",
       "      <th>299</th>\n",
       "      <td>E292</td>\n",
       "      <td>924121.7</td>\n",
       "      <td>723206.2</td>\n",
       "      <td>571173.8</td>\n",
       "      <td>496507.6</td>\n",
       "      <td>447273.3</td>\n",
       "      <td>409925.4</td>\n",
       "      <td>378886.5</td>\n",
       "      <td>351054.9</td>\n",
       "      <td>323913.4</td>\n",
       "      <td>293499.8</td>\n",
       "      <td>273085.9</td>\n",
       "      <td>0.092749</td>\n",
       "      <td>752342</td>\n",
       "    </tr>\n",
       "  </tbody>\n",
       "</table>\n",
       "</div>"
      ],
      "text/plain": [
       "    Event        5.0      10.0      20.0      30.0      40.0      50.0  \\\n",
       "295  E281   825794.0  655402.0  524181.7  458867.0  415436.1  382277.8   \n",
       "296  E271   745257.7  598999.4  484532.6  426849.0  388193.7  358504.8   \n",
       "297  E295   952845.7  742812.5  584635.5  507232.8  456309.5  417747.3   \n",
       "298  E300  1002775.5  776691.7  607771.1  525608.4  471756.3  431093.6   \n",
       "299  E292   924121.7  723206.2  571173.8  496507.6  447273.3  409925.4   \n",
       "\n",
       "         60.0      70.0      80.0      90.0      95.0  Uniform Random Float  \\\n",
       "295  354569.1  329597.2  305120.7  277535.2  258917.3              0.090489   \n",
       "296  333568.5  310988.9  288752.2  263556.0  246462.7              0.062290   \n",
       "297  385746.6  357091.5  329185.1  297962.5  277036.5              0.110418   \n",
       "298  397432.4  367358.4  338136.2  305524.8  283721.1              0.125236   \n",
       "299  378886.5  351054.9  323913.4  293499.8  273085.9              0.092749   \n",
       "\n",
       "     Final Peak Flow  \n",
       "295           687812  \n",
       "296           709308  \n",
       "297           726333  \n",
       "298           734062  \n",
       "299           752342  "
      ]
     },
     "execution_count": 9,
     "metadata": {},
     "output_type": "execute_result"
    }
   ],
   "source": [
    "runs = pd.read_csv(os.path.join(os.getcwd(),'sample_data\\PeakFlow_MetaData.csv')) #Load the data\n",
    "\n",
    "sorted_runs = runs.sort_values(by='Final Peak Flow').reset_index(drop=True) #Sort the dataframe by the peak discharge\n",
    "sorted_runs.tail()"
   ]
  },
  {
   "cell_type": "markdown",
   "metadata": {},
   "source": [
    "##### Plot the events:"
   ]
  },
  {
   "cell_type": "code",
   "execution_count": 10,
   "metadata": {},
   "outputs": [
    {
     "data": {
      "image/png": "[encoded data removed]",
      "text/plain": [
       "<Figure size 1440x432 with 2 Axes>"
      ]
     },
     "metadata": {
      "needs_background": "light"
     },
     "output_type": "display_data"
    }
   ],
   "source": [
    "sim_Events(runs,sorted_runs) #Plot the unsorted and sorted simulated events"
   ]
  },
  {
   "cell_type": "markdown",
   "metadata": {},
   "source": [
    "### 3. Calculate the weights for the AEPs:"
   ]
  },
  {
   "cell_type": "markdown",
   "metadata": {},
   "source": [
    "#### using the range/number of AEPs from above:"
   ]
  },
  {
   "cell_type": "code",
   "execution_count": 11,
   "metadata": {},
   "outputs": [
    {
     "data": {
      "text/html": [
       "<div>\n",
       "<style scoped>\n",
       "    .dataframe tbody tr th:only-of-type {\n",
       "        vertical-align: middle;\n",
       "    }\n",
       "\n",
       "    .dataframe tbody tr th {\n",
       "        vertical-align: top;\n",
       "    }\n",
       "\n",
       "    .dataframe thead th {\n",
       "        text-align: right;\n",
       "    }\n",
       "</style>\n",
       "<table border=\"1\" class=\"dataframe\">\n",
       "  <thead>\n",
       "    <tr style=\"text-align: right;\">\n",
       "      <th></th>\n",
       "      <th>center</th>\n",
       "    </tr>\n",
       "  </thead>\n",
       "  <tbody>\n",
       "    <tr>\n",
       "      <th>0</th>\n",
       "      <td>2.024376</td>\n",
       "    </tr>\n",
       "    <tr>\n",
       "      <th>1</th>\n",
       "      <td>2.074332</td>\n",
       "    </tr>\n",
       "    <tr>\n",
       "      <th>2</th>\n",
       "      <td>2.125520</td>\n",
       "    </tr>\n",
       "    <tr>\n",
       "      <th>3</th>\n",
       "      <td>2.177971</td>\n",
       "    </tr>\n",
       "    <tr>\n",
       "      <th>4</th>\n",
       "      <td>2.231717</td>\n",
       "    </tr>\n",
       "  </tbody>\n",
       "</table>\n",
       "</div>"
      ],
      "text/plain": [
       "     center\n",
       "0  2.024376\n",
       "1  2.074332\n",
       "2  2.125520\n",
       "3  2.177971\n",
       "4  2.231717"
      ]
     },
     "execution_count": 11,
     "metadata": {},
     "output_type": "execute_result"
    }
   ],
   "source": [
    "df1=RI(min_val,max_val,nbin) #Calculate the recurrance interval given the minimum/maximum and number of recurrance intervals and return as a dataframe\n",
    "df1.head()"
   ]
  },
  {
   "cell_type": "code",
   "execution_count": 12,
   "metadata": {},
   "outputs": [
    {
     "data": {
      "text/html": [
       "<div>\n",
       "<style scoped>\n",
       "    .dataframe tbody tr th:only-of-type {\n",
       "        vertical-align: middle;\n",
       "    }\n",
       "\n",
       "    .dataframe tbody tr th {\n",
       "        vertical-align: top;\n",
       "    }\n",
       "\n",
       "    .dataframe thead th {\n",
       "        text-align: right;\n",
       "    }\n",
       "</style>\n",
       "<table border=\"1\" class=\"dataframe\">\n",
       "  <thead>\n",
       "    <tr style=\"text-align: right;\">\n",
       "      <th></th>\n",
       "      <th>ceiling</th>\n",
       "      <th>floor</th>\n",
       "      <th>weight</th>\n",
       "    </tr>\n",
       "    <tr>\n",
       "      <th>AEP</th>\n",
       "      <th></th>\n",
       "      <th></th>\n",
       "      <th></th>\n",
       "    </tr>\n",
       "  </thead>\n",
       "  <tbody>\n",
       "    <tr>\n",
       "      <th>0.493979</th>\n",
       "      <td>0.500000</td>\n",
       "      <td>0.487959</td>\n",
       "      <td>0.012375</td>\n",
       "    </tr>\n",
       "    <tr>\n",
       "      <th>0.482083</th>\n",
       "      <td>0.487959</td>\n",
       "      <td>0.476207</td>\n",
       "      <td>0.011751</td>\n",
       "    </tr>\n",
       "  </tbody>\n",
       "</table>\n",
       "</div>"
      ],
      "text/plain": [
       "           ceiling     floor    weight\n",
       "AEP                                   \n",
       "0.493979  0.500000  0.487959  0.012375\n",
       "0.482083  0.487959  0.476207  0.011751"
      ]
     },
     "metadata": {},
     "output_type": "display_data"
    },
    {
     "name": "stdout",
     "output_type": "stream",
     "text": [
      "None sum of weights: 0.5000000000000001\n"
     ]
    }
   ],
   "source": [
    "df3=AEP_weights(df1,min_val,max_val) #Calculate the weight for each RI/AEP and add up the weight to make sure that it sums to 0.5"
   ]
  },
  {
   "cell_type": "markdown",
   "metadata": {},
   "source": [
    "### 4. Calculate the mean discharge for each AEP:"
   ]
  },
  {
   "cell_type": "code",
   "execution_count": 13,
   "metadata": {},
   "outputs": [
    {
     "data": {
      "text/html": [
       "<div>\n",
       "<style scoped>\n",
       "    .dataframe tbody tr th:only-of-type {\n",
       "        vertical-align: middle;\n",
       "    }\n",
       "\n",
       "    .dataframe tbody tr th {\n",
       "        vertical-align: top;\n",
       "    }\n",
       "\n",
       "    .dataframe thead th {\n",
       "        text-align: right;\n",
       "    }\n",
       "</style>\n",
       "<table border=\"1\" class=\"dataframe\">\n",
       "  <thead>\n",
       "    <tr style=\"text-align: right;\">\n",
       "      <th></th>\n",
       "      <th>AEPz</th>\n",
       "      <th>Q_Mean_cfs</th>\n",
       "      <th>Q_Median_cfs</th>\n",
       "      <th>RI</th>\n",
       "    </tr>\n",
       "    <tr>\n",
       "      <th>AEP</th>\n",
       "      <th></th>\n",
       "      <th></th>\n",
       "      <th></th>\n",
       "      <th></th>\n",
       "    </tr>\n",
       "  </thead>\n",
       "  <tbody>\n",
       "    <tr>\n",
       "      <th>0.493979</th>\n",
       "      <td>0.015092</td>\n",
       "      <td>33343.660819</td>\n",
       "      <td>32514.375082</td>\n",
       "      <td>2.024376</td>\n",
       "    </tr>\n",
       "    <tr>\n",
       "      <th>0.482083</th>\n",
       "      <td>0.044926</td>\n",
       "      <td>33920.070244</td>\n",
       "      <td>33135.941572</td>\n",
       "      <td>2.074332</td>\n",
       "    </tr>\n",
       "    <tr>\n",
       "      <th>0.470473</th>\n",
       "      <td>0.074081</td>\n",
       "      <td>34492.965222</td>\n",
       "      <td>33754.816697</td>\n",
       "      <td>2.125520</td>\n",
       "    </tr>\n",
       "    <tr>\n",
       "      <th>0.459143</th>\n",
       "      <td>0.102593</td>\n",
       "      <td>35062.613128</td>\n",
       "      <td>34371.253741</td>\n",
       "      <td>2.177971</td>\n",
       "    </tr>\n",
       "    <tr>\n",
       "      <th>0.448086</th>\n",
       "      <td>0.130500</td>\n",
       "      <td>35629.259102</td>\n",
       "      <td>34985.485020</td>\n",
       "      <td>2.231717</td>\n",
       "    </tr>\n",
       "  </tbody>\n",
       "</table>\n",
       "</div>"
      ],
      "text/plain": [
       "              AEPz    Q_Mean_cfs  Q_Median_cfs        RI\n",
       "AEP                                                     \n",
       "0.493979  0.015092  33343.660819  32514.375082  2.024376\n",
       "0.482083  0.044926  33920.070244  33135.941572  2.074332\n",
       "0.470473  0.074081  34492.965222  33754.816697  2.125520\n",
       "0.459143  0.102593  35062.613128  34371.253741  2.177971\n",
       "0.448086  0.130500  35629.259102  34985.485020  2.231717"
      ]
     },
     "execution_count": 13,
     "metadata": {},
     "output_type": "execute_result"
    }
   ],
   "source": [
    "AEP1=df3.index #Extract the annual exceedance probabilities from this dataframe\n",
    "\n",
    "AEP1z=zvar(AEP1) #Transform this AEP to the standard normal z variate\n",
    "\n",
    "table=ffc_summary(AEP1,AEP1z) #Construct a table with the AEP and the standard normal z variate of the AEP\n",
    "\n",
    "table['Q_Mean_cfs'] = 10**table['AEPz'].apply(mean_Q(AEPmz,Q)) #Calculate the mean flow in cfs using the AEPmz and log Q from Step 1\n",
    "\n",
    "table['Q_Median_cfs'] = 10**table['AEPz'].apply(median_Q(AEPz,data)) #Calculate the median flow in cfs  \n",
    "\n",
    "table['RI']=1.0/table.index #Add a column to the table which is the recurrance interval\n",
    "\n",
    "table.head()"
   ]
  },
  {
   "cell_type": "code",
   "execution_count": 14,
   "metadata": {},
   "outputs": [
    {
     "data": {
      "text/plain": [
       "array([3.76851231, 3.97185275, 4.17519319, 4.37853363, 4.58187407,\n",
       "       4.78521451, 4.98855496, 5.1918954 , 5.39523584, 5.59857628,\n",
       "       5.80191672, 6.00525716, 6.2085976 , 6.41193805, 6.61527849,\n",
       "       6.81861893, 7.02195937, 7.22529981, 7.42864025, 7.63198069,\n",
       "       7.83532114, 8.03866158, 8.24200202, 8.44534246, 8.6486829 ,\n",
       "       8.85202334, 9.05536378, 9.25870422, 9.46204467, 9.66538511,\n",
       "       9.86872555])"
      ]
     },
     "execution_count": 14,
     "metadata": {},
     "output_type": "execute_result"
    }
   ],
   "source": [
    "Q"
   ]
  },
  {
   "cell_type": "markdown",
   "metadata": {},
   "source": [
    "### 5. Find the events whose discharge is closest to the mean discharge at a given AEP and plot:"
   ]
  },
  {
   "cell_type": "code",
   "execution_count": 15,
   "metadata": {},
   "outputs": [],
   "source": [
    "dic=eventIDs(table,runs,nevents) #Use the Q_mean_cfs from \"table\" and the \"runs\" dataframe to find the event IDs (nevents = number of events) whose discharge is closest to the mean at the RI"
   ]
  },
  {
   "cell_type": "code",
   "execution_count": 16,
   "metadata": {},
   "outputs": [
    {
     "data": {
      "text/html": [
       "<div>\n",
       "<style scoped>\n",
       "    .dataframe tbody tr th:only-of-type {\n",
       "        vertical-align: middle;\n",
       "    }\n",
       "\n",
       "    .dataframe tbody tr th {\n",
       "        vertical-align: top;\n",
       "    }\n",
       "\n",
       "    .dataframe thead th {\n",
       "        text-align: right;\n",
       "    }\n",
       "</style>\n",
       "<table border=\"1\" class=\"dataframe\">\n",
       "  <thead>\n",
       "    <tr style=\"text-align: right;\">\n",
       "      <th></th>\n",
       "      <th>Events</th>\n",
       "      <th>RI</th>\n",
       "    </tr>\n",
       "  </thead>\n",
       "  <tbody>\n",
       "    <tr>\n",
       "      <th>0</th>\n",
       "      <td>E002</td>\n",
       "      <td>2.024376</td>\n",
       "    </tr>\n",
       "    <tr>\n",
       "      <th>1</th>\n",
       "      <td>E005</td>\n",
       "      <td>2.074332</td>\n",
       "    </tr>\n",
       "    <tr>\n",
       "      <th>2</th>\n",
       "      <td>E005</td>\n",
       "      <td>2.125520</td>\n",
       "    </tr>\n",
       "    <tr>\n",
       "      <th>3</th>\n",
       "      <td>E005</td>\n",
       "      <td>2.177971</td>\n",
       "    </tr>\n",
       "    <tr>\n",
       "      <th>4</th>\n",
       "      <td>E007</td>\n",
       "      <td>2.231717</td>\n",
       "    </tr>\n",
       "  </tbody>\n",
       "</table>\n",
       "</div>"
      ],
      "text/plain": [
       "  Events        RI\n",
       "0   E002  2.024376\n",
       "1   E005  2.074332\n",
       "2   E005  2.125520\n",
       "3   E005  2.177971\n",
       "4   E007  2.231717"
      ]
     },
     "execution_count": 16,
     "metadata": {},
     "output_type": "execute_result"
    }
   ],
   "source": [
    "events=eventtable(table,dic) #Convert the dictionary of eventIDs to a dataframe\n",
    "events.head()"
   ]
  },
  {
   "cell_type": "code",
   "execution_count": 17,
   "metadata": {},
   "outputs": [
    {
     "data": {
      "text/html": [
       "<div>\n",
       "<style scoped>\n",
       "    .dataframe tbody tr th:only-of-type {\n",
       "        vertical-align: middle;\n",
       "    }\n",
       "\n",
       "    .dataframe tbody tr th {\n",
       "        vertical-align: top;\n",
       "    }\n",
       "\n",
       "    .dataframe thead th {\n",
       "        text-align: right;\n",
       "    }\n",
       "</style>\n",
       "<table border=\"1\" class=\"dataframe\">\n",
       "  <thead>\n",
       "    <tr style=\"text-align: right;\">\n",
       "      <th></th>\n",
       "      <th>Value1</th>\n",
       "      <th>AEP</th>\n",
       "    </tr>\n",
       "    <tr>\n",
       "      <th>RI</th>\n",
       "      <th></th>\n",
       "      <th></th>\n",
       "    </tr>\n",
       "  </thead>\n",
       "  <tbody>\n",
       "    <tr>\n",
       "      <th>2.024376</th>\n",
       "      <td>33400</td>\n",
       "      <td>49.397933</td>\n",
       "    </tr>\n",
       "    <tr>\n",
       "      <th>2.074332</th>\n",
       "      <td>34024</td>\n",
       "      <td>48.208299</td>\n",
       "    </tr>\n",
       "    <tr>\n",
       "      <th>2.231717</th>\n",
       "      <td>36548</td>\n",
       "      <td>44.808550</td>\n",
       "    </tr>\n",
       "    <tr>\n",
       "      <th>2.343220</th>\n",
       "      <td>36778</td>\n",
       "      <td>42.676319</td>\n",
       "    </tr>\n",
       "    <tr>\n",
       "      <th>2.401043</th>\n",
       "      <td>37013</td>\n",
       "      <td>41.648559</td>\n",
       "    </tr>\n",
       "  </tbody>\n",
       "</table>\n",
       "</div>"
      ],
      "text/plain": [
       "          Value1        AEP\n",
       "RI                         \n",
       "2.024376   33400  49.397933\n",
       "2.074332   34024  48.208299\n",
       "2.231717   36548  44.808550\n",
       "2.343220   36778  42.676319\n",
       "2.401043   37013  41.648559"
      ]
     },
     "execution_count": 17,
     "metadata": {},
     "output_type": "execute_result"
    }
   ],
   "source": [
    "eventQs=eventQ(events,runs,dic, nevents) #Create a dataframe to store the event's discharge for each RI\n",
    "eventQs.head()"
   ]
  },
  {
   "cell_type": "markdown",
   "metadata": {},
   "source": [
    "##### Plot the mean and median flow frequency curves with the events:"
   ]
  },
  {
   "cell_type": "code",
   "execution_count": 18,
   "metadata": {},
   "outputs": [
    {
     "data": {
      "image/png": "[encoded data removed]",
      "text/plain": [
       "<Figure size 1728x432 with 2 Axes>"
      ]
     },
     "metadata": {
      "needs_background": "light"
     },
     "output_type": "display_data"
    }
   ],
   "source": [
    "f=plot_ssp_meanmedffc_events(table, eventQs, gage_ID) #Plot the final mean and median flow frequency curves, witht the events from StratSamplerPOC.ipynb"
   ]
  },
  {
   "cell_type": "markdown",
   "metadata": {},
   "source": [
    "### 6. Assign the weight for each event given its corresponding AEP/bin:"
   ]
  },
  {
   "cell_type": "code",
   "execution_count": 19,
   "metadata": {},
   "outputs": [
    {
     "data": {
      "text/html": [
       "<div>\n",
       "<style scoped>\n",
       "    .dataframe tbody tr th:only-of-type {\n",
       "        vertical-align: middle;\n",
       "    }\n",
       "\n",
       "    .dataframe tbody tr th {\n",
       "        vertical-align: top;\n",
       "    }\n",
       "\n",
       "    .dataframe thead th {\n",
       "        text-align: right;\n",
       "    }\n",
       "</style>\n",
       "<table border=\"1\" class=\"dataframe\">\n",
       "  <thead>\n",
       "    <tr style=\"text-align: right;\">\n",
       "      <th></th>\n",
       "      <th>Events</th>\n",
       "      <th>RI</th>\n",
       "      <th>weight</th>\n",
       "    </tr>\n",
       "  </thead>\n",
       "  <tbody>\n",
       "    <tr>\n",
       "      <th>0</th>\n",
       "      <td>E002</td>\n",
       "      <td>2.024376</td>\n",
       "      <td>0.012375</td>\n",
       "    </tr>\n",
       "    <tr>\n",
       "      <th>1</th>\n",
       "      <td>E005</td>\n",
       "      <td>2.074332</td>\n",
       "      <td>0.011751</td>\n",
       "    </tr>\n",
       "    <tr>\n",
       "      <th>2</th>\n",
       "      <td>E005</td>\n",
       "      <td>2.125520</td>\n",
       "      <td>0.011468</td>\n",
       "    </tr>\n",
       "    <tr>\n",
       "      <th>3</th>\n",
       "      <td>E005</td>\n",
       "      <td>2.177971</td>\n",
       "      <td>0.011192</td>\n",
       "    </tr>\n",
       "    <tr>\n",
       "      <th>4</th>\n",
       "      <td>E007</td>\n",
       "      <td>2.231717</td>\n",
       "      <td>0.010923</td>\n",
       "    </tr>\n",
       "  </tbody>\n",
       "</table>\n",
       "</div>"
      ],
      "text/plain": [
       "  Events        RI    weight\n",
       "0   E002  2.024376  0.012375\n",
       "1   E005  2.074332  0.011751\n",
       "2   E005  2.125520  0.011468\n",
       "3   E005  2.177971  0.011192\n",
       "4   E007  2.231717  0.010923"
      ]
     },
     "execution_count": 19,
     "metadata": {},
     "output_type": "execute_result"
    }
   ],
   "source": [
    "events=eventweight(events,df3,nevents) #Assign the weight to each event using the weight for that specific recurrance interval from step 3\n",
    "events.head()"
   ]
  },
  {
   "cell_type": "markdown",
   "metadata": {},
   "source": [
    "### 7. Divide the total event weight into base/breach weights using the Augusta_Fluvial_weights.csv"
   ]
  },
  {
   "cell_type": "code",
   "execution_count": 20,
   "metadata": {},
   "outputs": [],
   "source": [
    "df4=basebreach_format(pd.read_csv(r'sample_data\\Augusta_Fluvial_weights.csv'))  #Load the three hundred events from Augustua_Fluvial_weights.csv \n",
    "\n",
    "Event=sorted(set(df4['Events'])) #Get a unique list of the event IDs"
   ]
  },
  {
   "cell_type": "code",
   "execution_count": 21,
   "metadata": {},
   "outputs": [],
   "source": [
    "events['Events']=pd.to_numeric([events['Events'][i].replace('E','') for i in events.index]) #Remove the \"E\" from the name of the event and convert the event number to a integer\n",
    "\n",
    "Eventsub=sorted(set(events['Events'])) #Get a unique list of the event IDs"
   ]
  },
  {
   "cell_type": "code",
   "execution_count": 22,
   "metadata": {},
   "outputs": [
    {
     "name": "stdout",
     "output_type": "stream",
     "text": [
      "0.49999999999999983\n"
     ]
    },
    {
     "data": {
      "text/html": [
       "<div>\n",
       "<style scoped>\n",
       "    .dataframe tbody tr th:only-of-type {\n",
       "        vertical-align: middle;\n",
       "    }\n",
       "\n",
       "    .dataframe tbody tr th {\n",
       "        vertical-align: top;\n",
       "    }\n",
       "\n",
       "    .dataframe thead th {\n",
       "        text-align: right;\n",
       "    }\n",
       "</style>\n",
       "<table border=\"1\" class=\"dataframe\">\n",
       "  <thead>\n",
       "    <tr style=\"text-align: right;\">\n",
       "      <th></th>\n",
       "      <th>Run</th>\n",
       "      <th>Weight</th>\n",
       "      <th>RunType</th>\n",
       "      <th>Events</th>\n",
       "      <th>Type</th>\n",
       "      <th>wtotal</th>\n",
       "      <th>prob</th>\n",
       "      <th>wadjust</th>\n",
       "    </tr>\n",
       "  </thead>\n",
       "  <tbody>\n",
       "    <tr>\n",
       "      <th>1</th>\n",
       "      <td>Base_E002</td>\n",
       "      <td>0.011751</td>\n",
       "      <td>Base</td>\n",
       "      <td>2</td>\n",
       "      <td>Base</td>\n",
       "      <td>0.011751</td>\n",
       "      <td>1.0</td>\n",
       "      <td>0.012375</td>\n",
       "    </tr>\n",
       "    <tr>\n",
       "      <th>3</th>\n",
       "      <td>Base_E004</td>\n",
       "      <td>0.011192</td>\n",
       "      <td>Base</td>\n",
       "      <td>4</td>\n",
       "      <td>Base</td>\n",
       "      <td>0.011192</td>\n",
       "      <td>1.0</td>\n",
       "      <td>0.010152</td>\n",
       "    </tr>\n",
       "    <tr>\n",
       "      <th>4</th>\n",
       "      <td>Base_E005</td>\n",
       "      <td>0.010923</td>\n",
       "      <td>Base</td>\n",
       "      <td>5</td>\n",
       "      <td>Base</td>\n",
       "      <td>0.010923</td>\n",
       "      <td>1.0</td>\n",
       "      <td>0.034412</td>\n",
       "    </tr>\n",
       "    <tr>\n",
       "      <th>6</th>\n",
       "      <td>Base_E007</td>\n",
       "      <td>0.010403</td>\n",
       "      <td>Base</td>\n",
       "      <td>7</td>\n",
       "      <td>Base</td>\n",
       "      <td>0.010403</td>\n",
       "      <td>1.0</td>\n",
       "      <td>0.021582</td>\n",
       "    </tr>\n",
       "    <tr>\n",
       "      <th>7</th>\n",
       "      <td>Base_E008</td>\n",
       "      <td>0.010152</td>\n",
       "      <td>Base</td>\n",
       "      <td>8</td>\n",
       "      <td>Base</td>\n",
       "      <td>0.010152</td>\n",
       "      <td>1.0</td>\n",
       "      <td>0.009209</td>\n",
       "    </tr>\n",
       "  </tbody>\n",
       "</table>\n",
       "</div>"
      ],
      "text/plain": [
       "         Run    Weight RunType  Events  Type    wtotal  prob   wadjust\n",
       "1  Base_E002  0.011751    Base       2  Base  0.011751   1.0  0.012375\n",
       "3  Base_E004  0.011192    Base       4  Base  0.011192   1.0  0.010152\n",
       "4  Base_E005  0.010923    Base       5  Base  0.010923   1.0  0.034412\n",
       "6  Base_E007  0.010403    Base       7  Base  0.010403   1.0  0.021582\n",
       "7  Base_E008  0.010152    Base       8  Base  0.010152   1.0  0.009209"
      ]
     },
     "execution_count": 22,
     "metadata": {},
     "output_type": "execute_result"
    }
   ],
   "source": [
    "df5=basebreach(events,df4,Event,Eventsub) #Divide the total event weight into the base/breach weights (wadjust) and check that the sum adds up to 0.5\n",
    "df5.head()"
   ]
  },
  {
   "cell_type": "markdown",
   "metadata": {},
   "source": [
    "### 8. Adjust the weight of the breach scenarios and add the extra weight to the base:"
   ]
  },
  {
   "cell_type": "code",
   "execution_count": 24,
   "metadata": {},
   "outputs": [
    {
     "data": {
      "text/plain": [
       "219"
      ]
     },
     "execution_count": 24,
     "metadata": {},
     "output_type": "execute_result"
    }
   ],
   "source": [
    "len(Eventsub)"
   ]
  },
  {
   "cell_type": "code",
   "execution_count": null,
   "metadata": {},
   "outputs": [],
   "source": [
    "df6=breachnorm(df5, Eventsub) #Adjust the weight of the breach scenarios"
   ]
  },
  {
   "cell_type": "code",
   "execution_count": null,
   "metadata": {},
   "outputs": [],
   "source": [
    "path=os.path.join(os.getcwd(),'results/weighting_all') #Specify the location to save the results\n",
    "if os.path.isdir(path)==False: #If the desired path does not exist, create it.\n",
    "    os.mkdir(path)    \n",
    "    \n",
    "df6.to_csv(os.path.join(path,'weighting_all_%s.csv'%nbin)) #Save the results"
   ]
  },
  {
   "cell_type": "markdown",
   "metadata": {},
   "source": [
    "# End"
   ]
  }
 ],
 "metadata": {
  "kernelspec": {
   "display_name": "Python 3",
   "language": "python",
   "name": "python3"
  },
  "language_info": {
   "codemirror_mode": {
    "name": "ipython",
    "version": 3
   },
   "file_extension": ".py",
   "mimetype": "text/x-python",
   "name": "python",
   "nbconvert_exporter": "python",
   "pygments_lexer": "ipython3",
   "version": "3.7.1"
  }
 },
 "nbformat": 4,
 "nbformat_minor": 2
}
