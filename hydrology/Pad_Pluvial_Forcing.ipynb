{
 "cells": [
  {
   "cell_type": "markdown",
   "metadata": {},
   "source": [
    "# Pad Pluvial Forcing\n",
    "\n",
    "__Description__: Reads all of the pluvial forcing files within a folder, pads the time series with zeros, and overwrites the orignal files.\n",
    "\n",
    "__Input__: The path to the folder containing the pluvial forcing *.json* files. \n",
    "\n",
    "__Output__: The updated pluvial forcing *.json* files.\n",
    "\n",
    "---\n",
    "\n",
    "## Load Libraries, Paths, and Options:\n",
    "### Libraries:"
   ]
  },
  {
   "cell_type": "code",
   "execution_count": 1,
   "metadata": {},
   "outputs": [],
   "source": [
    "import sys\n",
    "sys.path.append('../../core')\n",
    "from nb_libraries import*\n",
    "from fluvial_hydro import*"
   ]
  },
  {
   "cell_type": "markdown",
   "metadata": {},
   "source": [
    "### Paths:"
   ]
  },
  {
   "cell_type": "code",
   "execution_count": 31,
   "metadata": {},
   "outputs": [],
   "source": [
    "root_dir = pl.Path(os.getcwd())\n",
    "outputs_dir = root_dir/'Outputs'"
   ]
  },
  {
   "cell_type": "markdown",
   "metadata": {},
   "source": [
    "### Options:"
   ]
  },
  {
   "cell_type": "code",
   "execution_count": 3,
   "metadata": {},
   "outputs": [],
   "source": [
    "plen = 2             # Number of zeros to add\n",
    "uniform_plen = True  # If this is True then you must specify the desired plen \n",
    "verbose =  True      # Display print statements"
   ]
  },
  {
   "cell_type": "markdown",
   "metadata": {},
   "source": [
    "---\n",
    "## Identify, Pad, and Save Forcing Files:\n",
    "### Identify all forcing files:"
   ]
  },
  {
   "cell_type": "code",
   "execution_count": 32,
   "metadata": {},
   "outputs": [
    {
     "name": "stdout",
     "output_type": "stream",
     "text": [
      "C:\\Users\\sputnam\\Desktop\\PFRA_Production\\Pluvial\\DC\\Outputs2\\DC_P01_Forcing\\DC_P01_D01.json\n",
      "C:\\Users\\sputnam\\Desktop\\PFRA_Production\\Pluvial\\DC\\Outputs2\\DC_P01_Forcing\\DC_P01_D02.json\n",
      "C:\\Users\\sputnam\\Desktop\\PFRA_Production\\Pluvial\\DC\\Outputs2\\DC_P03_Forcing\\DC_P03_D01.json\n",
      "C:\\Users\\sputnam\\Desktop\\PFRA_Production\\Pluvial\\DC\\Outputs2\\DC_P03_Forcing\\DC_P03_D02.json\n",
      "C:\\Users\\sputnam\\Desktop\\PFRA_Production\\Pluvial\\DC\\Outputs2\\DC_P04_Forcing\\DC_P04_D01.json\n",
      "C:\\Users\\sputnam\\Desktop\\PFRA_Production\\Pluvial\\DC\\Outputs2\\DC_P06_Forcing\\DC_P06_D01.json\n",
      "C:\\Users\\sputnam\\Desktop\\PFRA_Production\\Pluvial\\DC\\Outputs2\\DC_P06_Forcing\\DC_P06_D02.json\n"
     ]
    }
   ],
   "source": [
    "files = []\n",
    "for f in outputs_dir.glob('**/*.json'):\n",
    "        if 'Forcing' in f.parent.stem: \n",
    "            files.append(f)              \n",
    "            if verbose: print(f)"
   ]
  },
  {
   "cell_type": "markdown",
   "metadata": {},
   "source": [
    "### Pad and save the foring files:"
   ]
  },
  {
   "cell_type": "code",
   "execution_count": 5,
   "metadata": {},
   "outputs": [
    {
     "name": "stdout",
     "output_type": "stream",
     "text": [
      "Updated: DC_P01_D01\n",
      "Updated: DC_P01_D02\n",
      "Updated: DC_P03_D01\n",
      "Updated: DC_P03_D02\n",
      "Updated: DC_P04_D01\n",
      "Updated: DC_P06_D01\n",
      "Updated: DC_P06_D02\n"
     ]
    }
   ],
   "source": [
    "for file in files:\n",
    "    pad_pluvial_forcing(file, plen, uniform_plen, verbose)"
   ]
  },
  {
   "cell_type": "markdown",
   "metadata": {},
   "source": [
    "---\n",
    "## End"
   ]
  }
 ],
 "metadata": {
  "kernelspec": {
   "display_name": "Python 3",
   "language": "python",
   "name": "python3"
  },
  "language_info": {
   "codemirror_mode": {
    "name": "ipython",
    "version": 3
   },
   "file_extension": ".py",
   "mimetype": "text/x-python",
   "name": "python",
   "nbconvert_exporter": "python",
   "pygments_lexer": "ipython3",
   "version": "3.7.1"
  }
 },
 "nbformat": 4,
 "nbformat_minor": 4
}
