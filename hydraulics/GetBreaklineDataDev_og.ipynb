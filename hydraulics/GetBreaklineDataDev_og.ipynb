{
 "cells": [
  {
   "cell_type": "markdown",
   "metadata": {},
   "source": [
    "\n",
    "### *Development Notebook*\n",
    "# Breakline/Mesh Data Dictionary \n",
    "\n",
    "---\n",
    "\n",
    "### HEC-RAS Computational Mesh & HDF File Components\n",
    "\n",
    "![](overview.PNG)\n",
    "\n",
    "\n",
    "---\n",
    "\n",
    "###  We need to identify Cell/Face Pairs at a breakline\n",
    "\n",
    "\n",
    "![](breakline.png)\n",
    "\n",
    "---\n",
    "\n",
    "###  Incorporate Dircetionality\n",
    "\n",
    "\n",
    "![](direction.png)\n",
    "\n",
    "---"
   ]
  },
  {
   "cell_type": "code",
   "execution_count": 2,
   "metadata": {},
   "outputs": [],
   "source": [
    "import h5py\n",
    "import numpy as np\n",
    "import pathlib as pl\n",
    "import geopandas as gpd\n",
    "from shapely.geometry import Point, LineString\n",
    "from collections import OrderedDict\n",
    "import matplotlib.pyplot as plt"
   ]
  },
  {
   "cell_type": "markdown",
   "metadata": {},
   "source": [
    "#### Functions\n",
    "Temporarily stored in cells during development. Move to `.py` for production"
   ]
  },
  {
   "cell_type": "code",
   "execution_count": 3,
   "metadata": {},
   "outputs": [],
   "source": [
    "def hdfData(hdfFile:str, path:str):\n",
    "    '''Get Data Array only from HDF'''\n",
    "    with h5py.File(hdfFile,'r') as hf:\n",
    "        binary_data = np.array(hf[path])\n",
    "        return binary_data \n",
    "\n",
    "def mapTable(idxs, infoArray):\n",
    "    '''From Info, get position of indexed data to build table'''\n",
    "    table_map = {}\n",
    "    for idx in idxs:\n",
    "        start = infoArray[idx,0]\n",
    "        stop = start + infoArray[idx,1]\n",
    "        table_map[idx] = (start, stop)\n",
    "    return table_map\n",
    "\n",
    "def hdfDataSet(hdfFile:str, path:str):\n",
    "    '''Get Data from HDF'''\n",
    "    p = pl.Path(path).name\n",
    "    with h5py.File(hdfFile,'r') as hf:\n",
    "        values = np.array(hf[path].value)\n",
    "        rowData = np.array(hf[path].attrs['Row'])\n",
    "        colData = np.array(hf[path].attrs['Column'])\n",
    "        return  {'path':p, 'data':values, 'rowData':rowData, 'colData':colData}\n",
    "    \n",
    "def printDescription(d):\n",
    "    print(d['path'], '\\n', d['rowData'], '\\t', d['colData'])\n",
    "    \n",
    "def get_groups(sharePair: list):\n",
    "    spairs = sharePair.copy()\n",
    "    g1 = spairs[0]\n",
    "    spairs.remove(spairs[0])\n",
    "    \n",
    "    for i in range(3):\n",
    "        \n",
    "        for p in spairs:\n",
    "            if i%2==0:\n",
    "                a, b = p[0], p[1]\n",
    "            else:\n",
    "                a, b = p[1], p[0]\n",
    "                \n",
    "            if (a in g1):\n",
    "                g1.append(b)\n",
    "                spairs.remove(p)\n",
    "                \n",
    "    g1 = list(set(g1))\n",
    "    g2 =  list(set([item for sublist in spairs for item in sublist]))\n",
    "    \n",
    "    return g1, g2\n",
    "\n",
    "def get_point_combos(sortedPointList):\n",
    "    combos = []\n",
    "    for i, p in enumerate(sortedPointList):\n",
    "        if len(sortedPointList) > i+1:\n",
    "            fpA = np.array(sortedPointList[i])\n",
    "            fpB = np.array(sortedPointList[i+1])\n",
    "            combos.append(np.array([fpA, fpB]))\n",
    "            \n",
    "    return combos"
   ]
  },
  {
   "cell_type": "markdown",
   "metadata": {},
   "source": [
    "### Enter HEC-RAS data info"
   ]
  },
  {
   "cell_type": "code",
   "execution_count": 4,
   "metadata": {},
   "outputs": [],
   "source": [
    "# RAS Plan file (.hdf)\n",
    "ras_data_file = r'C:\\Users\\slawler\\Desktop\\atkinstest\\atkinstest_P01_H00.p01.hdf'\n",
    "\n",
    "# RAS domain (2d Flow area name)\n",
    "RasDomain = 'D01'"
   ]
  },
  {
   "cell_type": "markdown",
   "metadata": {},
   "source": [
    "#### HDF Tables"
   ]
  },
  {
   "cell_type": "code",
   "execution_count": 5,
   "metadata": {},
   "outputs": [
    {
     "name": "stdout",
     "output_type": "stream",
     "text": [
      "Attributes\n",
      "Polyline Info\n",
      "Polyline Parts\n",
      "Polyline Points\n"
     ]
    },
    {
     "data": {
      "text/plain": [
       "{'Attributes': array([(b'Q03', nan, nan, 0, 1), (b'Q04', nan, nan, 0, 1),\n",
       "        (b'Q02', nan, nan, 0, 1), (b'Breakline 4', nan, nan, 0, 1)],\n",
       "       dtype=[('Name', 'S32'), ('Cell Spacing Near', '<f4'), ('Cell Spacing Far', '<f4'), ('Near Repeats', '<i4'), ('Protection Radius', 'u1')]),\n",
       " 'Polyline Info': array([[0, 2, 0, 1],\n",
       "        [2, 2, 1, 1],\n",
       "        [4, 2, 2, 1],\n",
       "        [6, 2, 3, 1]]),\n",
       " 'Polyline Parts': array([[0, 2],\n",
       "        [0, 2],\n",
       "        [0, 2],\n",
       "        [0, 2]]),\n",
       " 'Polyline Points': array([[1320708.69783641,  441722.12918374],\n",
       "        [1320063.37255421,  442119.04220616],\n",
       "        [1310854.46781631,  436516.18188023],\n",
       "        [1309652.04582761,  437133.81567151],\n",
       "        [1325476.92735379,  452621.53493599],\n",
       "        [1324793.35627123,  452994.70811591],\n",
       "        [1328671.12815762,  455328.36862033],\n",
       "        [1328132.83253751,  455356.15162008]])}"
      ]
     },
     "execution_count": 5,
     "metadata": {},
     "output_type": "execute_result"
    }
   ],
   "source": [
    "flowAreaContents = hdfData(ras_data_file, '/Geometry/2D Flow Areas/{}'.format(RasDomain))\n",
    "breakLineContents = hdfData(ras_data_file, '/Geometry/2D Flow Area Break Lines')\n",
    "geomData, attrData, bLineData={},{},{}\n",
    "\n",
    "for i, table in enumerate(flowAreaContents):\n",
    "    table_path = '/Geometry/2D Flow Areas/{}/{}'.format(RasDomain,table)\n",
    "    geomData[table] = hdfDataSet(ras_data_file, table_path)\n",
    "    \n",
    "for i, table in enumerate(breakLineContents):\n",
    "    print(table)\n",
    "    bLineData[table] = hdfData(ras_data_file, '/Geometry/2D Flow Area Break Lines/{}'.format(table))\n",
    "\n",
    "bLineData"
   ]
  },
  {
   "cell_type": "code",
   "execution_count": 5,
   "metadata": {},
   "outputs": [
    {
     "name": "stdout",
     "output_type": "stream",
     "text": [
      "Geometry Tables\n",
      "\n",
      "Index      Dataset                                 Rows                Columns                                      \n",
      "0          Cells Center Coordinate                 Cell                (0) X                                            (1) Y                                            \n",
      "1          Cells Face and Orientation Info         Cell                (0) Starting Index                               (1) Count                                        \n",
      "2          Cells Face and Orientation Values       row                 (0) Face Index                                   (1) Orientation                                  \n",
      "3          Cells FacePoint Indexes                 Cell                (0) Face Point Indexes                           \n",
      "4          Cells Minimum Elevation                 Cell                (0) Minimum Elevation                            \n",
      "5          Cells Surface Area                      Cell                (0) Surface Area                                 \n",
      "6          Cells Volume Elevation Info             Cell                (0) Starting Index                               (1) Count                                        \n",
      "7          Cells Volume Elevation Values           row                 (0) Elevation                                    (1) Volume                                       \n",
      "8          FacePoints Cell Index Values            row                 (0) Cell Index                                   \n",
      "9          FacePoints Cell Info                    Face Point          (0) Starting Index                               (1) Count                                        \n",
      "10         FacePoints Coordinate                   Face Point          (0) X                                            (1) Y                                            \n",
      "11         FacePoints Face and Orientation Info    Face Point          (0) Start Index                                  (1) Count                                        \n",
      "12         FacePoints Face and Orientation Values  row                 (0) Face Index                                   (1) Orientation: '1' means face points toward this facepoint, '-1' means face points away from this facepoint\n",
      "13         FacePoints Is Perimeter                 Face Point          (0) Is On Perimeter                              \n",
      "14         Faces Area Elevation Info               Face                (0) Starting Index                               (1) Count                                        \n",
      "15         Faces Area Elevation Values             row                 (0) Z                                            (1) Area                                         (2) Wetted Perimeter                             (3) Manning's n                                  \n",
      "16         Faces Cell Indexes                      Face                (0) Cell 0                                       (1) Cell 1                                       \n",
      "17         Faces FacePoint Indexes                 Face                (0) Face Point A                                 (1) Face Point B                                 \n",
      "18         Faces Low Elevation Centroid            Face                (0) Centroid station for bottom 5% of the face area\n",
      "19         Faces Minimum Elevation                 Face                (0) Minimum Elevation                            \n",
      "20         Faces NormalUnitVector and Length       Face                (0) X Component                                  (1) Y Component                                  (2) Face Length                                  \n",
      "21         Faces Perimeter Info                    Face                (0) Start Index                                  (1) Count                                        \n",
      "22         Faces Perimeter Values                  row                 (0) X                                            (1) Y                                            \n",
      "23         Perimeter                               Points              (0) X                                            (1) Y                                            \n"
     ]
    }
   ],
   "source": [
    "print(f'Geometry Tables\\n\\n{\"Index\":<11}{\"Dataset\":<40}{\"Rows\":<20}{\"Columns\":<45}')\n",
    "geoKeys = list(geomData.keys())\n",
    "\n",
    "for i, k in enumerate(geoKeys):\n",
    "    printLine =  f'{i:<10} {k:<40}'\n",
    "    for attrs in geomData[k].keys():\n",
    "        if (attrs == 'rowData'):\n",
    "            rowData  = geomData[k][attrs].flatten()\n",
    "            data = [d.decode() for d in rowData]\n",
    "            printLine += f'{data[0]:<20}'\n",
    "\n",
    "        elif (attrs == 'colData'):\n",
    "            colData  = geomData[k][attrs].flatten()\n",
    "            data = [d.decode() for d in colData]\n",
    "            for j, d in enumerate(data):\n",
    "                printLine +=f'({j}) {d:<45}'\n",
    "    print(printLine)\n"
   ]
  },
  {
   "cell_type": "code",
   "execution_count": 6,
   "metadata": {},
   "outputs": [],
   "source": [
    "d0 =  geomData[geoKeys[0]]\n",
    "d1 =  geomData[geoKeys[1]]\n",
    "d2 =  geomData[geoKeys[2]]\n",
    "d3 =  geomData[geoKeys[3]]\n",
    "d4 =  geomData[geoKeys[4]]\n",
    "d5 =  geomData[geoKeys[5]]\n",
    "d6 =  geomData[geoKeys[6]]\n",
    "d7 =  geomData[geoKeys[7]]\n",
    "d8 =  geomData[geoKeys[8]]\n",
    "d9 =  geomData[geoKeys[9]]\n",
    "d10 = geomData[geoKeys[10]]\n",
    "d11 = geomData[geoKeys[11]]\n",
    "d12 = geomData[geoKeys[12]]\n",
    "d13 = geomData[geoKeys[13]]\n",
    "d14 = geomData[geoKeys[14]]\n",
    "d15 = geomData[geoKeys[15]]\n",
    "d16 = geomData[geoKeys[16]]\n",
    "d17 = geomData[geoKeys[17]]\n",
    "d18 = geomData[geoKeys[18]]\n",
    "d19 = geomData[geoKeys[19]]\n",
    "d20 = geomData[geoKeys[20]]\n",
    "d21 = geomData[geoKeys[21]]\n",
    "d22 = geomData[geoKeys[22]]\n",
    "d23 = geomData[geoKeys[23]]"
   ]
  },
  {
   "cell_type": "code",
   "execution_count": 7,
   "metadata": {},
   "outputs": [
    {
     "name": "stdout",
     "output_type": "stream",
     "text": [
      "\n",
      "Breakline Data\n",
      "\t Attributes\n",
      "\t Polyline Info\n",
      "\t Polyline Parts\n",
      "\t Polyline Points\n"
     ]
    }
   ],
   "source": [
    "print('\\nBreakline Data')\n",
    "for k in bLineData.keys():print('\\t',k)"
   ]
  },
  {
   "cell_type": "markdown",
   "metadata": {},
   "source": [
    "### Read in Breakline data table"
   ]
  },
  {
   "cell_type": "code",
   "execution_count": 8,
   "metadata": {},
   "outputs": [
    {
     "data": {
      "text/html": [
       "<div>\n",
       "<style scoped>\n",
       "    .dataframe tbody tr th:only-of-type {\n",
       "        vertical-align: middle;\n",
       "    }\n",
       "\n",
       "    .dataframe tbody tr th {\n",
       "        vertical-align: top;\n",
       "    }\n",
       "\n",
       "    .dataframe thead th {\n",
       "        text-align: right;\n",
       "    }\n",
       "</style>\n",
       "<table border=\"1\" class=\"dataframe\">\n",
       "  <thead>\n",
       "    <tr style=\"text-align: right;\">\n",
       "      <th></th>\n",
       "      <th>Name</th>\n",
       "      <th>Cell Spacing Near</th>\n",
       "      <th>Cell Spacing Far</th>\n",
       "      <th>Near Repeats</th>\n",
       "      <th>Protection Radius</th>\n",
       "    </tr>\n",
       "  </thead>\n",
       "  <tbody>\n",
       "    <tr>\n",
       "      <th>0</th>\n",
       "      <td>Q03</td>\n",
       "      <td>NaN</td>\n",
       "      <td>NaN</td>\n",
       "      <td>0</td>\n",
       "      <td>1</td>\n",
       "    </tr>\n",
       "    <tr>\n",
       "      <th>1</th>\n",
       "      <td>Q04</td>\n",
       "      <td>NaN</td>\n",
       "      <td>NaN</td>\n",
       "      <td>0</td>\n",
       "      <td>1</td>\n",
       "    </tr>\n",
       "    <tr>\n",
       "      <th>2</th>\n",
       "      <td>Q02</td>\n",
       "      <td>NaN</td>\n",
       "      <td>NaN</td>\n",
       "      <td>0</td>\n",
       "      <td>1</td>\n",
       "    </tr>\n",
       "    <tr>\n",
       "      <th>3</th>\n",
       "      <td>Breakline 4</td>\n",
       "      <td>NaN</td>\n",
       "      <td>NaN</td>\n",
       "      <td>0</td>\n",
       "      <td>1</td>\n",
       "    </tr>\n",
       "  </tbody>\n",
       "</table>\n",
       "</div>"
      ],
      "text/plain": [
       "          Name  Cell Spacing Near  Cell Spacing Far  Near Repeats  \\\n",
       "0          Q03                NaN               NaN             0   \n",
       "1          Q04                NaN               NaN             0   \n",
       "2          Q02                NaN               NaN             0   \n",
       "3  Breakline 4                NaN               NaN             0   \n",
       "\n",
       "   Protection Radius  \n",
       "0                  1  \n",
       "1                  1  \n",
       "2                  1  \n",
       "3                  1  "
      ]
     },
     "execution_count": 8,
     "metadata": {},
     "output_type": "execute_result"
    }
   ],
   "source": [
    "bLineAtts = bLineData['Attributes']\n",
    "df_bLineAtts = pd.DataFrame(bLineAtts)\n",
    "df_bLineAtts['Name'] = df_bLineAtts['Name'].apply(lambda x: x.decode())\n",
    "df_bLineAtts"
   ]
  },
  {
   "cell_type": "markdown",
   "metadata": {},
   "source": [
    "#### Breakline Tables\n",
    "\n",
    " 1. __Poly Info__: table map\n",
    " - __Poly parts__: # of line segments for each breakline\n",
    " - __Poly Points__: x,y coordinates at each line part intersection\n",
    "\n",
    " ```python\n",
    "bLinePolyInfo = {0 : 'Point Start Index' 1 : 'Point Count', 2 : , 3: }\n",
    "```\n"
   ]
  },
  {
   "cell_type": "code",
   "execution_count": 9,
   "metadata": {},
   "outputs": [
    {
     "data": {
      "text/plain": [
       "array([[0, 2, 0, 1],\n",
       "       [2, 2, 1, 1],\n",
       "       [4, 2, 2, 1],\n",
       "       [6, 2, 3, 1]])"
      ]
     },
     "execution_count": 9,
     "metadata": {},
     "output_type": "execute_result"
    }
   ],
   "source": [
    "bLinePolyInfo = bLineData['Polyline Info']\n",
    "bLinePolyInfo[:]"
   ]
  },
  {
   "cell_type": "code",
   "execution_count": 10,
   "metadata": {},
   "outputs": [
    {
     "data": {
      "text/plain": [
       "array([[0, 2],\n",
       "       [0, 2],\n",
       "       [0, 2],\n",
       "       [0, 2]])"
      ]
     },
     "execution_count": 10,
     "metadata": {},
     "output_type": "execute_result"
    }
   ],
   "source": [
    "bLinePolyParts = bLineData['Polyline Parts']\n",
    "bLinePolyParts[:]"
   ]
  },
  {
   "cell_type": "code",
   "execution_count": 11,
   "metadata": {},
   "outputs": [
    {
     "data": {
      "text/plain": [
       "array([[1320708.69783641,  441722.12918374],\n",
       "       [1320063.37255421,  442119.04220616],\n",
       "       [1310854.46781631,  436516.18188023],\n",
       "       [1309652.04582761,  437133.81567151],\n",
       "       [1325476.92735379,  452621.53493599],\n",
       "       [1324793.35627123,  452994.70811591],\n",
       "       [1328671.12815762,  455328.36862033],\n",
       "       [1328132.83253751,  455356.15162008]])"
      ]
     },
     "execution_count": 11,
     "metadata": {},
     "output_type": "execute_result"
    }
   ],
   "source": [
    "bLinePolyPoints = bLineData['Polyline Points']\n",
    "bLinePolyPoints[:]"
   ]
  },
  {
   "cell_type": "markdown",
   "metadata": {},
   "source": [
    "### Use Info table to create a map of point data (coordinates) for breaklines "
   ]
  },
  {
   "cell_type": "code",
   "execution_count": 12,
   "metadata": {},
   "outputs": [
    {
     "data": {
      "text/plain": [
       "{'Q03': (0, 2), 'Q04': (2, 4), 'Q02': (4, 6), 'Breakline 4': (6, 8)}"
      ]
     },
     "execution_count": 12,
     "metadata": {},
     "output_type": "execute_result"
    }
   ],
   "source": [
    "bLinePointMap = {}\n",
    "for idx, bLine in enumerate(df_bLineAtts.Name):\n",
    "    start = bLinePolyInfo[idx,0]\n",
    "    stop = start + bLinePolyInfo[idx,1]\n",
    "    bLinePointMap[bLine] = (start, stop)\n",
    "    \n",
    "bLinePointMap    "
   ]
  },
  {
   "cell_type": "markdown",
   "metadata": {},
   "source": [
    "#### Use the map to Find Coordinates for each breakline"
   ]
  },
  {
   "cell_type": "code",
   "execution_count": 13,
   "metadata": {},
   "outputs": [
    {
     "name": "stdout",
     "output_type": "stream",
     "text": [
      "Q03 [[1320708.69783641  441722.12918374]\n",
      " [1320063.37255421  442119.04220616]] \n",
      "\n",
      "Q04 [[1310854.46781631  436516.18188023]\n",
      " [1309652.04582761  437133.81567151]] \n",
      "\n",
      "Q02 [[1325476.92735379  452621.53493599]\n",
      " [1324793.35627123  452994.70811591]] \n",
      "\n",
      "Breakline 4 [[1328671.12815762  455328.36862033]\n",
      " [1328132.83253751  455356.15162008]] \n",
      "\n"
     ]
    }
   ],
   "source": [
    "bLinePointCoords={}\n",
    "for bline in bLinePointMap.keys():  \n",
    "    blineCoords = bLinePolyPoints[bLinePointMap[bline][0]: bLinePointMap[bline][1]]\n",
    "    bLinePointCoords[bline] = blineCoords\n",
    "    print(bline, blineCoords, '\\n')"
   ]
  },
  {
   "cell_type": "markdown",
   "metadata": {},
   "source": [
    "### Read in Face Point coordinates"
   ]
  },
  {
   "cell_type": "code",
   "execution_count": 14,
   "metadata": {},
   "outputs": [],
   "source": [
    "fPointCoords = geomData[geoKeys[10]]['data']"
   ]
  },
  {
   "cell_type": "markdown",
   "metadata": {},
   "source": [
    "#### Build map of Break lines to points"
   ]
  },
  {
   "cell_type": "code",
   "execution_count": 15,
   "metadata": {},
   "outputs": [
    {
     "data": {
      "text/plain": [
       "{'Q03': array([[1320708.69783641,  441722.12918374],\n",
       "        [1320063.37255421,  442119.04220616]]),\n",
       " 'Q04': array([[1310854.46781631,  436516.18188023],\n",
       "        [1309652.04582761,  437133.81567151]]),\n",
       " 'Q02': array([[1325476.92735379,  452621.53493599],\n",
       "        [1324793.35627123,  452994.70811591]]),\n",
       " 'Breakline 4': array([[1328671.12815762,  455328.36862033],\n",
       "        [1328132.83253751,  455356.15162008]])}"
      ]
     },
     "execution_count": 15,
     "metadata": {},
     "output_type": "execute_result"
    }
   ],
   "source": [
    "bLinePointCoords"
   ]
  },
  {
   "cell_type": "markdown",
   "metadata": {},
   "source": [
    "#### Search face point coordinate table to find which points share the breakline coordinates"
   ]
  },
  {
   "cell_type": "code",
   "execution_count": 16,
   "metadata": {},
   "outputs": [
    {
     "name": "stdout",
     "output_type": "stream",
     "text": [
      "\tFace Point ID =  20933\n",
      "\tFace Point ID =  20936\n",
      "\tFace Point ID =  20937\n",
      "\tFace Point ID =  20943\n",
      "\tFace Point ID =  20944\n",
      "\tFace Point ID =  20948\n",
      "\tFace Point ID =  20950\n",
      "\tFace Point ID =  20952\n"
     ]
    }
   ],
   "source": [
    "fPointIDs_atBLine = {}\n",
    "for bline, coords in bLinePointCoords.items():\n",
    "    #print(bline)\n",
    "    fPointIDs_atBLine[bline] = []\n",
    "    for point in coords:\n",
    "        idx = np.where(fPointCoords == point)\n",
    "        assert idx[0][0] == idx[0][1], 'Points not in the same array' # Since we are comparing floats, lets make sure we pick up the right ones\n",
    "        fpointIdx = idx[0][0]\n",
    "        fPointIDs_atBLine[bline].append(fpointIdx)\n",
    "        print('\\tFace Point ID = ', fpointIdx)"
   ]
  },
  {
   "cell_type": "markdown",
   "metadata": {},
   "source": [
    "#### Map Breakline ID's to Facepoints"
   ]
  },
  {
   "cell_type": "code",
   "execution_count": 17,
   "metadata": {},
   "outputs": [],
   "source": [
    "x = [x[0] for x in d10['data']]\n",
    "y = [x[1] for x in d10['data']]\n",
    "gdf = gpd.GeoDataFrame(gpd.GeoSeries(map(Point, zip(x, y))))"
   ]
  },
  {
   "cell_type": "markdown",
   "metadata": {},
   "source": [
    "#### Choose a Test bLine"
   ]
  },
  {
   "cell_type": "code",
   "execution_count": 18,
   "metadata": {},
   "outputs": [
    {
     "name": "stdout",
     "output_type": "stream",
     "text": [
      "Q02\n"
     ]
    },
    {
     "data": {
      "image/svg+xml": [
       "<svg xmlns=\"http://www.w3.org/2000/svg\" xmlns:xlink=\"http://www.w3.org/1999/xlink\" width=\"300\" height=\"300\" viewBox=\"1324766.0134279279 452594.19209268404 738.2567691602744 427.8588665262214\" preserveAspectRatio=\"xMinYMin meet\"><g transform=\"matrix(1,0,0,-1,0,905616.2430518942)\"><polyline fill=\"none\" stroke=\"#66cc99\" stroke-width=\"4.92171179440183\" points=\"1325476.9273537858,452621.5349359863 1324793.3562712302,452994.708115908\" opacity=\"0.8\" /></g></svg>"
      ],
      "text/plain": [
       "<shapely.geometry.linestring.LineString at 0x2283a232828>"
      ]
     },
     "execution_count": 18,
     "metadata": {},
     "output_type": "execute_result"
    }
   ],
   "source": [
    "bLine = list(bLinePointMap.keys())[2]\n",
    "print(bLine)\n",
    "start_point = bLinePointCoords[bLine][0]\n",
    "stop_point = bLinePointCoords[bLine][-1]\n",
    "line = LineString([start_point,stop_point])\n",
    "line"
   ]
  },
  {
   "cell_type": "code",
   "execution_count": 19,
   "metadata": {},
   "outputs": [
    {
     "name": "stdout",
     "output_type": "stream",
     "text": [
      "20944 POINT (1325476.927353786 452621.5349359863)\n",
      "20945 POINT (1325306.034583147 452714.8282309668)\n",
      "20946 POINT (1325135.141812508 452808.1215259472)\n",
      "20947 POINT (1324964.249041869 452901.4148209276)\n",
      "20948 POINT (1324793.35627123 452994.708115908)\n"
     ]
    }
   ],
   "source": [
    "fpointsOnLine = {}\n",
    "for xy in np.arange(0, fPointCoords.shape[0]):\n",
    "    facePoint = Point(fPointCoords[xy])\n",
    "    if line.intersects(facePoint.buffer(1)):\n",
    "        fpointsOnLine[xy] = fPointCoords[xy]\n",
    "        print(xy, facePoint)"
   ]
  },
  {
   "cell_type": "code",
   "execution_count": 20,
   "metadata": {},
   "outputs": [
    {
     "data": {
      "text/plain": [
       "OrderedDict([(20944, 0.0),\n",
       "             (20945, 194.69971223646547),\n",
       "             (20946, 389.39942447290304),\n",
       "             (20947, 584.0991367093405),\n",
       "             (20948, 778.7988489457782)])"
      ]
     },
     "execution_count": 20,
     "metadata": {},
     "output_type": "execute_result"
    }
   ],
   "source": [
    "sortPoints = dict()\n",
    "for fp, xy in fpointsOnLine.items():\n",
    "    a = Point(start_point)\n",
    "    b = Point(xy)\n",
    "    distance_from_start =  a.distance(b)\n",
    "    sortPoints[fp] = distance_from_start\n",
    "    \n",
    "sortedPoints = OrderedDict(sorted(sortPoints.items(), key=lambda x: x[1]))\n",
    "sortedPoints"
   ]
  },
  {
   "cell_type": "code",
   "execution_count": 21,
   "metadata": {},
   "outputs": [
    {
     "data": {
      "text/plain": [
       "[20944, 20945, 20946, 20947, 20948]"
      ]
     },
     "execution_count": 21,
     "metadata": {},
     "output_type": "execute_result"
    }
   ],
   "source": [
    "sortedPointList = list(sortedPoints.keys())\n",
    "sortedPointList"
   ]
  },
  {
   "cell_type": "code",
   "execution_count": 22,
   "metadata": {},
   "outputs": [
    {
     "data": {
      "text/plain": [
       "[array([20944, 20945]),\n",
       " array([20945, 20946]),\n",
       " array([20946, 20947]),\n",
       " array([20947, 20948])]"
      ]
     },
     "execution_count": 22,
     "metadata": {},
     "output_type": "execute_result"
    }
   ],
   "source": [
    "pointCombos = get_point_combos(sortedPointList)\n",
    "pointCombos"
   ]
  },
  {
   "cell_type": "code",
   "execution_count": 23,
   "metadata": {},
   "outputs": [
    {
     "name": "stdout",
     "output_type": "stream",
     "text": [
      "Face Points \t Face \t Common Cells \t aCell (min el) bCell (min el) \tOrthogonal Dir\n",
      "[20944 20945] \t 20306 \t [20393 20392] \t 9.6366625 \t 8.368883 \t 1\n",
      "[20945 20946] \t 19522 \t [20396 20397] \t 0.0 \t 0.10867936 \t -1\n",
      "[20946 20947] \t 19506 \t [20398 20399] \t 0.0 \t 0.0 \t -1\n",
      "[20947 20948] \t 19492 \t [20401 20400] \t 2.312066 \t 0.024748486 \t 1\n"
     ]
    }
   ],
   "source": [
    "searchTable = d17['data']\n",
    "cells = []\n",
    "faceCellCombos = {}\n",
    "\n",
    "print('Face Points','\\t', 'Face','\\t', 'Common Cells', '\\t','aCell (min el) bCell (min el)', '\\tOrthogonal Dir')\n",
    "for combo in pointCombos:\n",
    "    aFaces = np.where(searchTable == combo[0])[0]\n",
    "    bFaces = np.where(searchTable == combo[1])[0]\n",
    "    commonFace = [f for f in aFaces if f in bFaces][0]\n",
    "    \n",
    "    faceCells = d16['data'][commonFace]\n",
    "    for c in faceCells: cells.append(c)\n",
    "    \n",
    "    aCellMinElev = d4['data'][faceCells[0]]\n",
    "    bCellMinElev = d4['data'][faceCells[1]]  \n",
    "    \n",
    "    \n",
    "    # Read position info from d11\n",
    "    startFind = d11['data'][combo[0]][0]\n",
    "    stopFind = startFind+ d11['data'][combo[0]][1]\n",
    "    startFind, stopFind \n",
    "    \n",
    "    fPointFaces = d12['data'][startFind:stopFind]\n",
    "    idx = np.argwhere(fPointFaces==commonFace)\n",
    "    orthoDir = fPointFaces[idx[0][0]][-1]\n",
    "\n",
    "    faceCellCombos[commonFace] = faceCells\n",
    "\n",
    "    print(combo,'\\t', commonFace, '\\t',faceCells,'\\t', aCellMinElev,'\\t', bCellMinElev, '\\t', orthoDir)"
   ]
  },
  {
   "cell_type": "markdown",
   "metadata": {},
   "source": [
    "### Incomplete\n",
    "\n",
    "Directionality: Figure out which cell is hiegher, assume downstream is the lower cells direction"
   ]
  },
  {
   "cell_type": "code",
   "execution_count": 24,
   "metadata": {},
   "outputs": [
    {
     "data": {
      "text/plain": [
       "['20393 20392', '20396 20397', '20398 20399', '20401 20400']"
      ]
     },
     "execution_count": 24,
     "metadata": {},
     "output_type": "execute_result"
    }
   ],
   "source": [
    "crossCellPairs=[]\n",
    "for combo in faceCellCombos:\n",
    "    crossCells = str(faceCellCombos[combo][0]) +' '+ str(faceCellCombos[combo][1])\n",
    "    crossCellPairs.append(crossCells)\n",
    "crossCellPairs"
   ]
  },
  {
   "cell_type": "code",
   "execution_count": 25,
   "metadata": {},
   "outputs": [
    {
     "data": {
      "text/plain": [
       "{20393: array([81996,     5]),\n",
       " 20392: array([81991,     5]),\n",
       " 20396: array([82010,     5]),\n",
       " 20397: array([82015,     5]),\n",
       " 20398: array([82020,     4]),\n",
       " 20399: array([82024,     4]),\n",
       " 20401: array([82033,     5]),\n",
       " 20400: array([82028,     5])}"
      ]
     },
     "execution_count": 25,
     "metadata": {},
     "output_type": "execute_result"
    }
   ],
   "source": [
    "infoTable = {}\n",
    "for c in cells:\n",
    "    infoTable[c] = d1['data'][c]\n",
    "    \n",
    "infoTable"
   ]
  },
  {
   "cell_type": "code",
   "execution_count": 26,
   "metadata": {},
   "outputs": [
    {
     "name": "stdout",
     "output_type": "stream",
     "text": [
      "20393 [20304, 19525, 19485, 20305, 20306]\n",
      "20392 [20324, 20691, 20308, 20306, 19521]\n",
      "20396 [19505, 19519, 19520, 19521, 19522]\n",
      "20397 [19484, 19480, 19523, 19522, 20305]\n",
      "20398 [19503, 19504, 19505, 19506]\n",
      "20399 [19506, 19523, 19479, 19493]\n",
      "20401 [18704, 19491, 19492, 19493, 19478]\n",
      "20400 [19498, 19503, 19492, 19507, 19508]\n"
     ]
    }
   ],
   "source": [
    "checkCells={}\n",
    "for cell, vals in infoTable.items():\n",
    "    startFind = infoTable[cell][0]\n",
    "    stopFind = startFind + infoTable[cell][1]\n",
    "    cFaces = d2['data'][startFind:stopFind]\n",
    "    faces = [c[0] for c in cFaces]\n",
    "    checkCells[cell] = faces\n",
    "    print(cell, faces)"
   ]
  },
  {
   "cell_type": "code",
   "execution_count": 27,
   "metadata": {},
   "outputs": [
    {
     "name": "stdout",
     "output_type": "stream",
     "text": [
      "Check 20393 against 20396\n",
      "Check 20393 against 20397\n",
      "Check 20393 against 20398\n",
      "Check 20393 against 20399\n",
      "Check 20393 against 20401\n",
      "Check 20393 against 20400\n",
      "Check 20392 against 20396\n",
      "Check 20392 against 20397\n",
      "Check 20392 against 20398\n",
      "Check 20392 against 20399\n",
      "Check 20392 against 20401\n",
      "Check 20392 against 20400\n",
      "Check 20396 against 20393\n",
      "Check 20396 against 20398\n",
      "Check 20396 against 20399\n",
      "Check 20396 against 20401\n",
      "Check 20396 against 20400\n",
      "Check 20397 against 20392\n",
      "Check 20397 against 20398\n",
      "Check 20397 against 20399\n",
      "Check 20397 against 20401\n",
      "Check 20397 against 20400\n",
      "Check 20398 against 20393\n",
      "Check 20398 against 20392\n",
      "Check 20398 against 20397\n",
      "Check 20398 against 20401\n",
      "Check 20398 against 20400\n",
      "Check 20399 against 20393\n",
      "Check 20399 against 20392\n",
      "Check 20399 against 20396\n",
      "Check 20399 against 20401\n",
      "Check 20399 against 20400\n",
      "Check 20401 against 20393\n",
      "Check 20401 against 20392\n",
      "Check 20401 against 20396\n",
      "Check 20401 against 20397\n",
      "Check 20401 against 20398\n",
      "Check 20400 against 20393\n",
      "Check 20400 against 20392\n",
      "Check 20400 against 20396\n",
      "Check 20400 against 20397\n",
      "Check 20400 against 20399\n"
     ]
    },
    {
     "data": {
      "text/plain": [
       "[['20393', '20397'],\n",
       " ['20392', '20396'],\n",
       " ['20396', '20398'],\n",
       " ['20397', '20399'],\n",
       " ['20398', '20400'],\n",
       " ['20399', '20401']]"
      ]
     },
     "execution_count": 27,
     "metadata": {},
     "output_type": "execute_result"
    }
   ],
   "source": [
    "checkedCombos = {}\n",
    "for i, c in enumerate(checkCells):\n",
    "    for i2, c2 in enumerate(checkCells):\n",
    "        combo = '{} {}'.format(c, c2)\n",
    "        comboT= '{} {}'.format(c2, c)\n",
    "        if (combo!=comboT) and (combo not in crossCellPairs) and (comboT not in crossCellPairs) and (combo not in checkedCombos) and (comboT not in checkedCombos):\n",
    "            a = checkCells[c]\n",
    "            b = checkCells[c2]\n",
    "            NsharedFaces = len([f for f in a if f in b])\n",
    "            if NsharedFaces !=0:\n",
    "                checkedCombos[combo] = NsharedFaces\n",
    "            print('Check {} against {}'.format(c,c2))\n",
    "        \n",
    "sharedPairs = [[x.split(' ')[0], x.split(' ')[1]] for x in list(checkedCombos.keys())]\n",
    "sharedPairs"
   ]
  },
  {
   "cell_type": "code",
   "execution_count": 28,
   "metadata": {},
   "outputs": [
    {
     "name": "stdout",
     "output_type": "stream",
     "text": [
      "Q02\n",
      "Group 1 =  ['20399', '20397', '20401', '20393']\n",
      "Group 2 =  ['20392', '20398', '20400', '20396']\n"
     ]
    }
   ],
   "source": [
    "Group1, Group2 = get_groups(sharedPairs)\n",
    "print(bLine)\n",
    "print('Group 1 = ', Group1)\n",
    "print('Group 2 = ', Group2)"
   ]
  },
  {
   "cell_type": "code",
   "execution_count": 29,
   "metadata": {},
   "outputs": [],
   "source": [
    "cellFaces1={}\n",
    "for g in Group1:\n",
    "    cell = int(g)\n",
    "    for face, cells in faceCellCombos.items():\n",
    "        if cell in cells:\n",
    "            cellFaces1[cell] = face\n"
   ]
  },
  {
   "cell_type": "code",
   "execution_count": 30,
   "metadata": {},
   "outputs": [],
   "source": [
    "cellFaces2={}\n",
    "\n",
    "for g in Group2:\n",
    "    cell = int(g)\n",
    "    for face, cells in faceCellCombos.items():\n",
    "        if cell in cells:\n",
    "            cellFaces2[cell] = face"
   ]
  },
  {
   "cell_type": "code",
   "execution_count": 31,
   "metadata": {},
   "outputs": [
    {
     "name": "stdout",
     "output_type": "stream",
     "text": [
      "Q02 Group 1\n",
      "\n",
      "cellFaceMap =\n"
     ]
    },
    {
     "data": {
      "text/plain": [
       "{20399: 19506, 20397: 19522, 20401: 19492, 20393: 20306}"
      ]
     },
     "execution_count": 31,
     "metadata": {},
     "output_type": "execute_result"
    }
   ],
   "source": [
    "print('{} Group 1\\n\\ncellFaceMap ='.format(bLine))\n",
    "cellFaces1"
   ]
  },
  {
   "cell_type": "code",
   "execution_count": 32,
   "metadata": {},
   "outputs": [
    {
     "name": "stdout",
     "output_type": "stream",
     "text": [
      "Q02 Group 2 \n",
      "\n",
      "cellFaceMap =\n"
     ]
    },
    {
     "data": {
      "text/plain": [
       "{20392: 20306, 20398: 19506, 20400: 19492, 20396: 19522}"
      ]
     },
     "execution_count": 32,
     "metadata": {},
     "output_type": "execute_result"
    }
   ],
   "source": [
    "print('{} Group 2 \\n\\ncellFaceMap ='.format(bLine))\n",
    "cellFaces2"
   ]
  }
 ],
 "metadata": {
  "kernelspec": {
   "display_name": "Python 3",
   "language": "python",
   "name": "python3"
  },
  "language_info": {
   "codemirror_mode": {
    "name": "ipython",
    "version": 3
   },
   "file_extension": ".py",
   "mimetype": "text/x-python",
   "name": "python",
   "nbconvert_exporter": "python",
   "pygments_lexer": "ipython3",
   "version": "3.7.1"
  }
 },
 "nbformat": 4,
 "nbformat_minor": 2
}
