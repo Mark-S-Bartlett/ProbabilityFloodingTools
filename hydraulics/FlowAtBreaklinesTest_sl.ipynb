{
 "cells": [
  {
   "cell_type": "markdown",
   "metadata": {},
   "source": [
    "\n",
    "### *Development Notebook*\n",
    "# Extact flow across HEC-RAS Breaklines\n"
   ]
  },
  {
   "cell_type": "code",
   "execution_count": 1,
   "metadata": {},
   "outputs": [],
   "source": [
    "import os, sys\n",
    "sys.path.append(os.getcwd())\n",
    "from ras_blines import *"
   ]
  },
  {
   "cell_type": "code",
   "execution_count": 2,
   "metadata": {},
   "outputs": [],
   "source": [
    "ras_data_file =  r'C:\\Data\\Breaklines\\P01.p01.hdf'\n",
    "RasDomain = 'P01'"
   ]
  },
  {
   "cell_type": "code",
   "execution_count": 3,
   "metadata": {},
   "outputs": [
    {
     "name": "stderr",
     "output_type": "stream",
     "text": [
      "C:\\Users\\Administrator\\Anaconda3\\lib\\site-packages\\h5py\\_hl\\dataset.py:313: H5pyDeprecationWarning: dataset.value has been deprecated. Use dataset[()] instead.\n",
      "  \"Use dataset[()] instead.\", H5pyDeprecationWarning)\n"
     ]
    }
   ],
   "source": [
    "# Read data into rasPlan Object\n",
    "rasPlan = rasHDF(ras_data_file, RasDomain)\n",
    "\n",
    "# Read results data from unsteady computation block\n",
    "fVel = rasPlan.unsteady_results(RasDomain, 'Face Velocity' )\n",
    "wses = rasPlan.unsteady_results(RasDomain, 'Water Surface' )\n"
   ]
  },
  {
   "cell_type": "code",
   "execution_count": 4,
   "metadata": {},
   "outputs": [],
   "source": [
    "# Map coordinates of breakline vertices\n",
    "fpoints_at_bline = rasPlan.fpoints_at_bline(rasPlan.FacePoints_Coordinate)\n",
    "\n",
    "# Save face points to a geodataframe (to optimize searching)\n",
    "fpointsGdf = fpoints_gdf(rasPlan.FacePoints_Coordinate)\n",
    "# fpointsGdf.head(3)"
   ]
  },
  {
   "cell_type": "code",
   "execution_count": 5,
   "metadata": {},
   "outputs": [],
   "source": [
    "# Buffer points to identify breakline points intersecting facepoints\n",
    "buffered_fpoints_gdf =  buffer_fpoints(rasPlan.FacePoints_Coordinate)\n"
   ]
  },
  {
   "cell_type": "code",
   "execution_count": 6,
   "metadata": {},
   "outputs": [
    {
     "name": "stdout",
     "output_type": "stream",
     "text": [
      "58 4\n",
      "69 3\n",
      "17 2\n",
      "54 2\n",
      "46 2\n",
      "38 0\n",
      "81 3\n",
      "8 1\n",
      "6 2\n",
      "8 1\n",
      "4 2\n",
      "2 0\n",
      "2 2\n",
      "9 0\n",
      "3 1\n",
      "9 2\n",
      "9 2\n",
      "4 2\n",
      "18 2\n",
      "7 2\n",
      "11 2\n",
      "10 1\n",
      "11 2\n",
      "13 2\n",
      "7 1\n",
      "3 2\n",
      "6 1\n",
      "2 2\n",
      "3 1\n",
      "6 1\n",
      "6 1\n",
      "3 0\n",
      "26 2\n",
      "4 1\n",
      "57 2\n",
      "11 2\n",
      "5 2\n",
      "4 0\n",
      "2 1\n",
      "10 2\n",
      "10 2\n",
      "7 2\n",
      "56 3\n"
     ]
    },
    {
     "data": {
      "text/plain": [
       "['Breakline 14', 'Breakline 29']"
      ]
     },
     "execution_count": 6,
     "metadata": {},
     "output_type": "execute_result"
    }
   ],
   "source": [
    "# Filter points to compute flow at valid break lines only\n",
    "valid_lines, error_lines = rasPlan.bline_filter(fpoints_at_bline)\n",
    "valid_lines"
   ]
  },
  {
   "cell_type": "code",
   "execution_count": 7,
   "metadata": {},
   "outputs": [
    {
     "data": {
      "text/plain": [
       "['Breakline 1',\n",
       " 'Breakline 2',\n",
       " 'Breakline 3',\n",
       " 'Breakline 5',\n",
       " 'Breakline 6',\n",
       " 'Breakline 7',\n",
       " 'Breakline 8',\n",
       " 'Breakline 9',\n",
       " 'Breakline 10',\n",
       " 'Breakline 11',\n",
       " 'Breakline 12',\n",
       " 'Breakline 13',\n",
       " 'Breakline 15',\n",
       " 'Breakline 16',\n",
       " 'Breakline 17',\n",
       " 'Breakline 18',\n",
       " 'Breakline 19',\n",
       " 'Breakline 20',\n",
       " 'Breakline 21',\n",
       " 'Breakline 22',\n",
       " 'Breakline 23',\n",
       " 'Breakline 24',\n",
       " 'Breakline 25',\n",
       " 'Breakline 26',\n",
       " 'Breakline 27',\n",
       " 'Breakline 28',\n",
       " 'Breakline 30',\n",
       " 'Breakline 31',\n",
       " 'Breakline 32',\n",
       " 'Breakline 33',\n",
       " 'Breakline 34',\n",
       " 'Breakline 35',\n",
       " 'Breakline 36',\n",
       " 'Breakline 37',\n",
       " 'Breakline 38',\n",
       " 'Breakline 39',\n",
       " 'Breakline 40',\n",
       " 'Breakline 41',\n",
       " 'Breakline 42',\n",
       " 'Breakline 43',\n",
       " 'Breakline 4']"
      ]
     },
     "execution_count": 7,
     "metadata": {},
     "output_type": "execute_result"
    }
   ],
   "source": [
    "error_lines"
   ]
  },
  {
   "cell_type": "code",
   "execution_count": null,
   "metadata": {},
   "outputs": [],
   "source": []
  },
  {
   "cell_type": "code",
   "execution_count": null,
   "metadata": {},
   "outputs": [],
   "source": []
  },
  {
   "cell_type": "code",
   "execution_count": null,
   "metadata": {},
   "outputs": [],
   "source": []
  },
  {
   "cell_type": "code",
   "execution_count": 8,
   "metadata": {},
   "outputs": [
    {
     "name": "stdout",
     "output_type": "stream",
     "text": [
      "Warning: Check this function. If needed, update to read in all line points\n",
      "\n",
      "                                                 geometry\n",
      "108595  POLYGON ((200339.164480595 1691088.15237225, 2...\n",
      "108596  POLYGON ((200337.8897301831 1690988.329609224,...\n",
      "108597  POLYGON ((200336.6149797711 1690888.506846197,...\n",
      "108598  POLYGON ((200335.3402293592 1690788.684083171,...\n",
      "108599  POLYGON ((200334.0654789473 1690688.861320144,...\n",
      "108600  POLYGON ((200332.7907285353 1690589.038557118,...\n",
      "108601  POLYGON ((200331.5159781234 1690489.215794092,...\n",
      "108602  POLYGON ((200330.2412277115 1690389.393031065,...\n",
      "108603  POLYGON ((200328.9664772995 1690289.570268039,...\n",
      "108604  POLYGON ((200327.6917268876 1690189.747505013,...\n",
      "108605  POLYGON ((200326.4169764757 1690089.924741986,...\n",
      "108606  POLYGON ((200325.1422260637 1689990.10197896, ...\n",
      "108607  POLYGON ((200323.8674756518 1689890.279215934,...\n",
      "108608  POLYGON ((200322.5927252399 1689790.456452907,...\n",
      "108609  POLYGON ((200321.3179748279 1689690.633689881,...\n",
      "108610  POLYGON ((200320.043224416 1689590.810926854, ...\n",
      "108611  POLYGON ((200318.7684740041 1689490.988163828,...\n",
      "108612  POLYGON ((200317.4937235921 1689391.165400801,...\n",
      "108613  POLYGON ((200316.2189731802 1689291.342637775,...\n",
      "108614  POLYGON ((200314.9442227682 1689191.519874749,...\n",
      "108615  POLYGON ((200313.6694723563 1689091.697111722,...\n",
      "108616  POLYGON ((200312.3947219444 1688991.874348696,...\n",
      "108617  POLYGON ((200311.1199715324 1688892.051585669,...\n",
      "108618  POLYGON ((200309.8452211205 1688792.228822643,...\n",
      "108619  POLYGON ((200308.5704707086 1688692.406059617,...\n",
      "108620  POLYGON ((200307.2957202966 1688592.58329659, ...\n",
      "108621  POLYGON ((200306.0209698847 1688492.760533564,...\n",
      "108622  POLYGON ((200304.7462194728 1688392.937770538,...\n",
      "108623  POLYGON ((200303.4714690608 1688293.115007511,...\n",
      "108624  POLYGON ((200302.1967186489 1688193.292244485,...\n",
      "...                                                   ...\n",
      "108627  POLYGON ((200298.3724674131 1687893.823955406,...\n",
      "108628  POLYGON ((200297.0977170012 1687794.001192379,...\n",
      "108629  POLYGON ((200295.8229665892 1687694.178429353,...\n",
      "108630  POLYGON ((200294.5482161773 1687594.355666326,...\n",
      "108631  POLYGON ((200293.2734657653 1687494.5329033, 2...\n",
      "108632  POLYGON ((200291.9987153534 1687394.710140274,...\n",
      "108633  POLYGON ((200290.7239649415 1687294.887377247,...\n",
      "108634  POLYGON ((200289.4492145296 1687195.064614221,...\n",
      "108635  POLYGON ((200288.1744641176 1687095.241851194,...\n",
      "108636  POLYGON ((200286.8997137057 1686995.419088168,...\n",
      "108637  POLYGON ((200285.6249632938 1686895.596325142,...\n",
      "108638  POLYGON ((200284.3502128818 1686795.773562115,...\n",
      "108639  POLYGON ((200283.0754624699 1686695.950799089,...\n",
      "108640  POLYGON ((200281.8007120579 1686596.128036062,...\n",
      "108641  POLYGON ((200280.525961646 1686496.305273036, ...\n",
      "108642  POLYGON ((200279.2512112341 1686396.48251001, ...\n",
      "108643  POLYGON ((200277.9764608222 1686296.659746983,...\n",
      "108644  POLYGON ((200276.7017104102 1686196.836983957,...\n",
      "108645  POLYGON ((200275.4269599983 1686097.01422093, ...\n",
      "108646  POLYGON ((200274.1522095863 1685997.191457904,...\n",
      "108647  POLYGON ((200272.8774591744 1685897.368694877,...\n",
      "108648  POLYGON ((200271.6027087625 1685797.545931851,...\n",
      "108649  POLYGON ((200270.3279583505 1685697.723168825,...\n",
      "108650  POLYGON ((200269.0532079386 1685597.900405798,...\n",
      "108651  POLYGON ((200267.7784575267 1685498.077642772,...\n",
      "108652  POLYGON ((200266.5037071147 1685398.254879746,...\n",
      "108653  POLYGON ((200265.2289567028 1685298.432116719,...\n",
      "108654  POLYGON ((200263.9542062909 1685198.609353693,...\n",
      "108655  POLYGON ((200262.6794558789 1685098.786590667,...\n",
      "108656  POLYGON ((200261.404705467 1684998.96382764, 2...\n",
      "\n",
      "[62 rows x 1 columns]\n",
      "Warning: Check this function. If needed, update to read in all line points\n",
      "\n",
      "                                                 geometry\n",
      "109403  POLYGON ((197521.3772061217 1705798.17228489, ...\n",
      "109404  POLYGON ((197425.904954744 1705800.8096399, 19...\n",
      "109405  POLYGON ((197616.8494574993 1705795.53492988, ...\n",
      "109406  POLYGON ((197712.3217088769 1705792.89757487, ...\n",
      "109407  POLYGON ((197807.7939602546 1705790.26021986, ...\n",
      "109408  POLYGON ((197903.2662116322 1705787.62286485, ...\n",
      "109409  POLYGON ((197998.7384630099 1705784.98550984, ...\n",
      "109410  POLYGON ((198094.2107143875 1705782.34815483, ...\n",
      "109411  POLYGON ((198189.6829657652 1705779.71079982, ...\n",
      "109412  POLYGON ((198285.1552171428 1705777.07344481, ...\n",
      "109413  POLYGON ((198380.6274685205 1705774.4360898, 1...\n",
      "109414  POLYGON ((198476.099719898 1705771.79873479, 1...\n",
      "109415  POLYGON ((198571.5719712757 1705769.16137978, ...\n",
      "109416  POLYGON ((198667.0442226533 1705766.52402477, ...\n",
      "109417  POLYGON ((198762.516474031 1705763.88666976, 1...\n"
     ]
    },
    {
     "data": {
      "image/png": "[encoded data removed]",
      "text/plain": [
       "<Figure size 864x216 with 1 Axes>"
      ]
     },
     "metadata": {
      "needs_background": "light"
     },
     "output_type": "display_data"
    },
    {
     "data": {
      "image/png": "[encoded data removed]",
      "text/plain": [
       "<Figure size 864x216 with 1 Axes>"
      ]
     },
     "metadata": {
      "needs_background": "light"
     },
     "output_type": "display_data"
    }
   ],
   "source": [
    "# Iterate over breaklines & Compute flow\n",
    "for bLine  in valid_lines:\n",
    "    \n",
    "    # Create line object with point vertices\n",
    "    start_point, fpointsOnLineGDF = get_bline_fpoint_pairs(bLine, rasPlan.blineCoords, buffered_fpoints_gdf)\n",
    "    print(fpointsOnLineGDF)\n",
    "    # Using the line, sort the points to identify ordering\n",
    "    sortedPoints =ordered_points(fpointsOnLineGDF, fpointsGdf, start_point)\n",
    "    \n",
    "    # ?\n",
    "    sortedPointList = list(sortedPoints.keys())\n",
    "    pointCombos = get_point_combos(sortedPointList)\n",
    "\n",
    "    try:\n",
    "        # Builds components needed for relationship tables\n",
    "        cells, faceCellCombos, faceNormal = build_geometry(pointCombos,\n",
    "                                                           rasPlan.Faces_FacePoint_Indexes,\n",
    "                                                           rasPlan.Cells_Minimum_Elevation,\n",
    "                                                           rasPlan.FacePoints_Face_and_Orientation_Info,\n",
    "                                                           rasPlan.FacePoints_Face_and_Orientation_Values,\n",
    "                                                           rasPlan.Faces_Cell_Indexes)\n",
    "        \n",
    "        # Identify cell pairs that face each other\n",
    "        crossCellPairs, infoTable = get_crossCelll_pairs(rasPlan.Cells_Face_and_Orientation_Info, faceCellCombos, cells)\n",
    "        \n",
    "        # ?\n",
    "        checkCells = get_checkCells(infoTable, rasPlan.Cells_Face_and_Orientation_Values)\n",
    "\n",
    "        # ?\n",
    "        sharedPairs = get_sharedPairs(checkCells, crossCellPairs)\n",
    "\n",
    "        # Group continuous cells on either side of the breakline\n",
    "        Group1, Group2 = get_groups(sharedPairs)\n",
    "\n",
    "        # Temporarily check both datasets. TODO: Find method to identify appropriate group\n",
    "        m1 = map_cellFaces(faceCellCombos, Group1)\n",
    "        m2 = map_cellFaces(faceCellCombos, Group2)\n",
    "        cellmaps = [m1, m2]\n",
    "        cellmap_results=[]\n",
    "        \n",
    "        # Calculate Flow at breakline\n",
    "        for cellFaceMap in cellmaps:\n",
    "            cellIDs = list(cellFaceMap.keys())\n",
    "            faceIDs = list(cellFaceMap.values())\n",
    "            \n",
    "            # Read in results data at cell/face pairs along the breakline\n",
    "            wse_slice = wses[:, cellIDs]\n",
    "            fVel_slice = fVel[:, faceIDs]\n",
    "            \n",
    "            # Map Cell faces to Area/Elevation data \n",
    "            table_map = mapTable(faceIDs, rasPlan.Faces_Area_Elevation_Info)\n",
    "            \n",
    "            # Map face-normal velocity directions\n",
    "            faceVectors = rasPlan.Faces_NormalUnitVector_and_Length[faceIDs,2]\n",
    "            \n",
    "            # Extend Area/Elevation curves\n",
    "            areaElevCurves = extrapElevAreas(table_map, rasPlan.Faces_Area_Elevation_Values, rasPlan.Faces_NormalUnitVector_and_Length)\n",
    "            \n",
    "            # Compute combined Flow along breakline\n",
    "            q = compute_blineFlow(bLine, wses, cellIDs, cellFaceMap, areaElevCurves, fVel, faceNormal)\n",
    "            \n",
    "            # Temporary: make a list of flow calcuated in both directions until a method for determining \n",
    "            # auto-identify which set is written\n",
    "            cellmap_results.append(q)\n",
    "            \n",
    "        # Plot for now....need to eventually write to file & save plots\n",
    "        doublePlot(bLine, cellmap_results[0], cellmap_results[1]);\n",
    "\n",
    "    except IndexError as e:\n",
    "        print('Error on {}, {}'.format(bLine, e))"
   ]
  },
  {
   "cell_type": "markdown",
   "metadata": {},
   "source": [
    "#### TODO: \n",
    " 1. Auto-identify flow direction \n",
    " - Write output to json\n",
    " - Create file (notebook?) engineers can use for QAQC\n",
    "\n",
    "# End"
   ]
  }
 ],
 "metadata": {
  "kernelspec": {
   "display_name": "Python 3",
   "language": "python",
   "name": "python3"
  },
  "language_info": {
   "codemirror_mode": {
    "name": "ipython",
    "version": 3
   },
   "file_extension": ".py",
   "mimetype": "text/x-python",
   "name": "python",
   "nbconvert_exporter": "python",
   "pygments_lexer": "ipython3",
   "version": "3.7.1"
  }
 },
 "nbformat": 4,
 "nbformat_minor": 2
}
