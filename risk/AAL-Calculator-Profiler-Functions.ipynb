{
 "cells": [
  {
   "cell_type": "markdown",
   "metadata": {
    "papermill": {
     "duration": 0,
     "end_time": "2018-11-05T19:39:26.725159",
     "exception": false,
     "start_time": "2018-11-05T19:39:26.725159",
     "status": "completed"
    },
    "tags": []
   },
   "source": [
    "# __AAL Calculator__ \n",
    "\n",
    "## Benchmark Notebook"
   ]
  },
  {
   "cell_type": "code",
   "execution_count": 1,
   "metadata": {},
   "outputs": [],
   "source": [
    "# User Parameters\n",
    "prob_mod_core_path = r'C:\\Users\\slawler\\GitRepos\\probmod-tools\\{}'"
   ]
  },
  {
   "cell_type": "code",
   "execution_count": 2,
   "metadata": {},
   "outputs": [
    {
     "name": "stdout",
     "output_type": "stream",
     "text": [
      "Non-Zeros Points 182935\n"
     ]
    }
   ],
   "source": [
    "wse_file = \"s3://pfra/RiskAssessment/Sacramento/Results/F01/WSE_Sacramento_F01_Uniform.csv\"\n",
    "weights_path = \"\"\n",
    "curve_groups = {\"singFam_1Story_NoBasement\": [105, 129, 132, 139, 173], \"singFam_2Story_NoBasement\": [107, 130, 136, 140, 174], \"singFam_3Story_NoBasement\": [109], \"singFam_1Story_Basement\": [106, 121, 133, 181, 704], \"singFam_2Story_Basement\": [108, 122, 137], \"singFam_3Story_Basement\": [110, 123], \"mobileHome\": [189, 191, 192, 203]}\n",
    "structure_cols = {\"Unique Building ID\": \"plus_code\", \"Damage Code\": \"damage_code\", \"Building Limit\": \"bldg_limit\", \"Building Deduction\": \"bldg_ded\", \"Content Limit\": \"cnt_limit\", \"Content Deduction\": \"cnt_ded\", \"Ground Elevation\": \"GroundElev\", \"First Floor Height\": \"first_floor_elev\"}\n",
    "\n",
    "scen = \"Sacramento_F01_Uniform\"\n",
    "TRI = \"\"\n",
    "\n",
    "import sys\n",
    "import pathlib as pl\n",
    "import pandas as pd\n",
    "from time import time\n",
    "from scipy.interpolate import interp1d\n",
    "from multiprocessing import Pool, cpu_count\n",
    "\n",
    "root = pl.Path(prob_mod_core_path.format('risk'))\n",
    "sys.path.append(prob_mod_core_path.format('core'))\n",
    "from risk_refactor import *\n",
    "\n",
    "project = scen.split('_')[0]\n",
    "model_name = scen.split('_')[1]\n",
    "book = scen.split('_')[2]\n",
    "if model_name[0] == 'P':\n",
    "    pluvial = True\n",
    "else:\n",
    "    pluvial = False\n",
    "    \n",
    "defaultHazusDDFn_path = root / 'hazusdepthdmgfns' / 'Building_DDF_Full_LUT_Hazus3p0.json'\n",
    "df_BDDFn = pd.read_json(str(defaultHazusDDFn_path), orient = 'index')\n",
    "df_BDDFn = hazusID_to_depth(df_BDDFn)\n",
    "df_agg = aggregate_ddf_curves(df_BDDFn, curve_groups, plot=False)\n",
    "\n",
    "# set curve for single family 1 story no basement\n",
    "df_agg.loc[-1, 'singFam_1Story_NoBasement']= 0.6\n",
    "df_agg.loc[-0.000000000001, 'singFam_1Story_NoBasement']= 0.6\n",
    "\n",
    "# set curve for single family 2 story no basement\n",
    "df_agg.loc[-1, 'singFam_2Story_NoBasement']= 0.6\n",
    "df_agg.loc[-0.000000000001, 'singFam_2Story_NoBasement']= 0.6\n",
    "\n",
    "# set curve for single family 3 story no basement\n",
    "df_agg.loc[-1, 'singFam_3Story_NoBasement']= 0.0\n",
    "df_agg.loc[-0.000000000001, 'singFam_3Story_NoBasement']= 0.0\n",
    "\n",
    "# set curve for mobile home\n",
    "df_agg.loc[-0.000000000001, 'mobileHome']= 0.75\n",
    "\n",
    "df_agg = df_agg.sort_index()\n",
    "\n",
    "#wse_file = 's3://pfra/RiskAssessment/{0}/Results/{1}/WSE_{0}_{1}_{2}.csv'.format(project, model_name, book)\n",
    "breach_prob_file = 's3://pfra/RiskAssessment/{0}/BreachAnalysis/{0}_{1}_raw_prob_table.csv'.format(project, model_name)\n",
    "weights_file = 's3://pfra/RiskAssessment/{0}/BreachAnalysis/{0}_{1}.xlsx'.format(project, model_name)\n",
    "\n",
    "dfwse = pd.read_csv(wse_file, index_col='plus_code')\n",
    "dfw = pd.read_excel(weights_file, sheet_name='Event_Weights', index_col=0 )[['Overall Weight']]\n",
    "dfbp = pd.read_csv(breach_prob_file, sep='\\t', index_col=0)\n",
    "for col in dfbp.columns:\n",
    "    dfbp.rename(columns={col:col.split('_')[1]}, inplace=True)\n",
    "    \n",
    "wse_results = [c for c in dfwse.columns if '_E' in c]\n",
    "thin_df = dfwse[wse_results].copy()\n",
    "\n",
    "thin_df['Max'] = thin_df.max(axis=1)\n",
    "non_zeros = thin_df[thin_df['Max'] > 0].index\n",
    "print('Non-Zeros Points', len(non_zeros))\n",
    "\n",
    "# Slice the full wsedf to select only plus codes with data to compute\n",
    "compute_matrix = dfwse.loc[non_zeros].drop(columns='geom').copy()"
   ]
  },
  {
   "cell_type": "markdown",
   "metadata": {},
   "source": [
    "### Grab an data point for testing"
   ]
  },
  {
   "cell_type": "code",
   "execution_count": 3,
   "metadata": {},
   "outputs": [],
   "source": [
    "pcodes = compute_matrix.index[0:1]\n",
    "compute_chunk = compute_matrix.loc[pcodes].copy()"
   ]
  },
  {
   "cell_type": "markdown",
   "metadata": {},
   "source": [
    "### Create global_model_data boject & get arguments for main function"
   ]
  },
  {
   "cell_type": "code",
   "execution_count": 4,
   "metadata": {},
   "outputs": [],
   "source": [
    "global_model_data = FluvialEvents(dfw, dfbp)\n",
    "allargs = [(p_code, global_model_data, df_agg, compute_chunk.loc[p_code], structure_cols) for p_code in compute_chunk.index]"
   ]
  },
  {
   "cell_type": "code",
   "execution_count": 6,
   "metadata": {},
   "outputs": [
    {
     "data": {
      "text/plain": [
       "('84CW295C+RG47G34', 20210.438716750774)"
      ]
     },
     "execution_count": 6,
     "metadata": {},
     "output_type": "execute_result"
    }
   ],
   "source": [
    "test_point = allargs[0]\n",
    "result = calc_fluv_aal_mp_functions(test_point)\n",
    "result"
   ]
  },
  {
   "cell_type": "markdown",
   "metadata": {},
   "source": [
    "#### Easy reloader if changing risk_refactor"
   ]
  },
  {
   "cell_type": "code",
   "execution_count": null,
   "metadata": {},
   "outputs": [],
   "source": [
    "from importlib import reload\n",
    "import risk_refactor\n",
    "reload(risk_refactor)\n",
    "from risk_refactor import *"
   ]
  }
 ],
 "metadata": {
  "kernel_info": {
   "name": "python3"
  },
  "kernelspec": {
   "display_name": "Python 3",
   "language": "python",
   "name": "python3"
  },
  "language_info": {
   "codemirror_mode": {
    "name": "ipython",
    "version": 3
   },
   "file_extension": ".py",
   "mimetype": "text/x-python",
   "name": "python",
   "nbconvert_exporter": "python",
   "pygments_lexer": "ipython3",
   "version": "3.6.5"
  },
  "nteract": {
   "version": "0.15.0"
  },
  "papermill": {
   "duration": 12.760471,
   "end_time": "2018-11-05T19:39:36.691309",
   "environment_variables": {},
   "exception": true,
   "output_path": "T:\\CCSI\\TECH\\FEMA\\2018_SO4_Innovation\\AAL_Comps\\East_Jackson\\AnalysisPart2\\Rawresults.ipynb",
   "parameters": {
    "TableauTbls": "T:\\CCSI\\TECH\\FEMA\\2018_SO4_Innovation\\AAL_Comps\\East_Jackson\\AnalysisPart2\\ANALYSIS\\AllQ_AllD_Results\\TableauTbls_Rawresults.pkl",
    "loss_usd_allruns_out": "T:\\CCSI\\TECH\\FEMA\\2018_SO4_Innovation\\AAL_Comps\\East_Jackson\\AnalysisPart2\\ANALYSIS\\AllQ_AllD_Results\\loss_usd_allruns_Rawresults.pkl",
    "loss_usd_out": "T:\\CCSI\\TECH\\FEMA\\2018_SO4_Innovation\\AAL_Comps\\East_Jackson\\AnalysisPart2\\ANALYSIS\\AllQ_AllD_Results\\loss_usd_Rawresults.pkl",
    "max_wse_file": "T:\\CCSI\\TECH\\FEMA\\2018_SO4_Innovation\\AAL_Comps\\East_Jackson\\AnalysisPart2\\AllCases\\RawResults.csv",
    "structure_id_field": "accntnum",
    "structures_path": "T:\\CCSI\\TECH\\FEMA\\2018_SO4_Innovation\\AAL_Comps\\East_Jackson\\AnalysisPart2\\Structures\\EastJacksonMS_SP_uniform.shp",
    "weights_path": "T:\\CCSI\\TECH\\FEMA\\2018_SO4_Innovation\\AAL_Comps\\East_Jackson\\AnalysisPart2\\east_jackson_weights.csv",
    "wse_root": "T:\\CCSI\\TECH\\FEMA\\2018_SO4_Innovation\\AAL_Comps\\East_Jackson\\AnalysisPart2\\AllCases"
   },
   "start_time": "2018-11-05T19:39:23.930838",
   "version": "0.15.1"
  },
  "toc-autonumbering": true
 },
 "nbformat": 4,
 "nbformat_minor": 4
}
