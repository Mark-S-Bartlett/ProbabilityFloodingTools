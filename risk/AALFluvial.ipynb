{
 "cells": [
  {
   "cell_type": "markdown",
   "metadata": {},
   "source": [
    "### Inputs"
   ]
  },
  {
   "cell_type": "code",
   "execution_count": 1,
   "metadata": {},
   "outputs": [],
   "source": [
    "# PAPERMILL (Not yet implemented)\n",
    "project = 'MeridianHills'\n",
    "model_name = 'F01'\n",
    "book = 'Uniform'\n",
    "\n",
    "wse_file = 's3://pfra/RiskAssessment/{0}/Results/{1}/WSE_{0}_{1}_{2}.csv'.format(project, model_name, book)\n",
    "breach_prob_file = 's3://pfra/RiskAssessment/{0}/BreachAnalysis/{0}_{1}_raw_prob_table.csv'.format(project, model_name)\n",
    "weights_file = 's3://pfra/RiskAssessment/{0}/BreachAnalysis/{0}_{1}.xlsx'.format(project, model_name)\n",
    "output_file = 's3://pfra/RiskAssessment/{0}/Results/{1}/AAL_{0}_{1}_{2}.csv'.format( project, model_name,book)\n",
    "\n",
    "structure_cols = {'Unique Building ID' : 'plus_code',\n",
    "             'Damage Code': 'damage_code',\n",
    "             'Building Limit' : 'bldg_limit',\n",
    "             'Building Deduction' : 'bldg_ded',\n",
    "             'Content Limit' : 'cnt_limit',\n",
    "             'Content Deduction': 'cnt_ded',\n",
    "             'Ground Elevation': 'GroundElev',\n",
    "             'First Floor Height': 'first_floor_elev'}"
   ]
  },
  {
   "cell_type": "code",
   "execution_count": 2,
   "metadata": {},
   "outputs": [
    {
     "name": "stdout",
     "output_type": "stream",
     "text": [
      "Working Directory = C:\\Users\\Administrator\\Desktop\\probmod-tools\\risk\n"
     ]
    }
   ],
   "source": [
    "import sys; sys.path.append('../core')\n",
    "from risk_refactor import *\n",
    "import time\n",
    "from multiprocessing import Pool, cpu_count\n",
    "print('Working Directory = {}'.format(os.getcwd()))"
   ]
  },
  {
   "cell_type": "markdown",
   "metadata": {},
   "source": [
    "### Adjust curves for current FEMA implementation"
   ]
  },
  {
   "cell_type": "code",
   "execution_count": 3,
   "metadata": {},
   "outputs": [],
   "source": [
    "defaultHazusDDFn_path = '../risk/hazusdepthdmgfns/Building_DDF_Full_LUT_Hazus3p0.json'\n",
    "df_BDDFn = pd.read_json(defaultHazusDDFn_path, orient = 'index')\n",
    "df_BDDFn = hazusID_to_depth(df_BDDFn)\n",
    "df_agg = aggregate_ddf_curves(df_BDDFn, curve_groups, plot=False)\n",
    "\n",
    "# set curve for single family 1 story no basement\n",
    "df_agg.loc[-1, 'singFam_1Story_NoBasement']= 0.6\n",
    "df_agg.loc[-0.000000000001, 'singFam_1Story_NoBasement']= 0.6\n",
    "\n",
    "# set curve for single family 2 story no basement\n",
    "df_agg.loc[-1, 'singFam_2Story_NoBasement']= 0.6\n",
    "df_agg.loc[-0.000000000001, 'singFam_2Story_NoBasement']= 0.6\n",
    "\n",
    "# set curve for single family 3 story no basement\n",
    "df_agg.loc[-1, 'singFam_3Story_NoBasement']= 0.0\n",
    "df_agg.loc[-0.000000000001, 'singFam_3Story_NoBasement']= 0.0\n",
    "\n",
    "# set curve for mobile home\n",
    "df_agg.loc[-0.000000000001, 'mobileHome']= 0.75\n",
    "\n",
    "df_agg = df_agg.sort_index()"
   ]
  },
  {
   "cell_type": "markdown",
   "metadata": {},
   "source": [
    "### Read in all of the relevant data"
   ]
  },
  {
   "cell_type": "code",
   "execution_count": 5,
   "metadata": {},
   "outputs": [],
   "source": [
    "dfwse = pd.read_csv(wse_file, index_col='plus_code')\n",
    "dfw = pd.read_excel(weights_file, sheet_name='Event_Weights', index_col=0 )[['Overall Weight']]\n",
    "dfbp = pd.read_csv(breach_prob_file, sep='\\t', index_col=0)\n",
    "for col in dfbp.columns:\n",
    "    dfbp.rename(columns={col:col.split('_')[1]}, inplace=True)"
   ]
  },
  {
   "cell_type": "markdown",
   "metadata": {},
   "source": [
    "### Pack up all arguments for multiprocessing"
   ]
  },
  {
   "cell_type": "code",
   "execution_count": 7,
   "metadata": {},
   "outputs": [],
   "source": [
    "events_data_object = FluvialEvents(dfw, dfbp)\n",
    "allargs = [(p_code, events_data_object, df_agg, dfwse, dfw, dfbp, structure_cols) for p_code in dfwse.index]"
   ]
  },
  {
   "cell_type": "markdown",
   "metadata": {},
   "source": [
    "### Compute AALs"
   ]
  },
  {
   "cell_type": "code",
   "execution_count": 8,
   "metadata": {},
   "outputs": [
    {
     "name": "stdout",
     "output_type": "stream",
     "text": [
      "24.85 minutes to process\n"
     ]
    }
   ],
   "source": [
    "st = time.time()\n",
    "\n",
    "p = Pool(cpu_count())\n",
    "results = p.map(calc_aal_mp, allargs)\n",
    "p.close()\n",
    "aal_results = {k: v for k, v in results}\n",
    "\n",
    "print(round((time.time()-st)/60, 2), 'minutes to process')"
   ]
  },
  {
   "cell_type": "code",
   "execution_count": 9,
   "metadata": {},
   "outputs": [],
   "source": [
    "df_AAL_only = pd.DataFrame.from_dict([aal_results]).T.rename(columns={0:'AAL'})\n",
    "df_AAL_only.index.name = structure_cols['Unique Building ID']\n",
    "# df_AAL_only.to_csv(output_file)\n",
    "df_AAL_only.to_csv('AAL_{}_{}_{}.csv'.format(project, model_name, book))"
   ]
  },
  {
   "cell_type": "markdown",
   "metadata": {},
   "source": [
    "### Check out the results"
   ]
  },
  {
   "cell_type": "code",
   "execution_count": 28,
   "metadata": {},
   "outputs": [
    {
     "data": {
      "text/markdown": [
       "## Sum: $12,290,164.72"
      ],
      "text/plain": [
       "<IPython.core.display.Markdown object>"
      ]
     },
     "metadata": {},
     "output_type": "display_data"
    },
    {
     "data": {
      "text/markdown": [
       "## Max: $55,359.61"
      ],
      "text/plain": [
       "<IPython.core.display.Markdown object>"
      ]
     },
     "metadata": {},
     "output_type": "display_data"
    },
    {
     "data": {
      "text/markdown": [
       "## Mean: $1,078.56"
      ],
      "text/plain": [
       "<IPython.core.display.Markdown object>"
      ]
     },
     "metadata": {},
     "output_type": "display_data"
    }
   ],
   "source": [
    "from IPython.display import display, Markdown\n",
    "tot = df_AAL_only.AAL.sum()\n",
    "mx = df_AAL_only.AAL.max()\n",
    "avg = df_AAL_only.AAL.mean()\n",
    "display(Markdown('## Sum: ${0:,.2f}'.format(tot)))\n",
    "display(Markdown('## Max: ${0:,.2f}'.format(mx)))\n",
    "display(Markdown('## Mean: ${0:,.2f}'.format(avg)))"
   ]
  },
  {
   "cell_type": "markdown",
   "metadata": {},
   "source": [
    "# END"
   ]
  }
 ],
 "metadata": {
  "kernelspec": {
   "display_name": "Python 3",
   "language": "python",
   "name": "python3"
  },
  "language_info": {
   "codemirror_mode": {
    "name": "ipython",
    "version": 3
   },
   "file_extension": ".py",
   "mimetype": "text/x-python",
   "name": "python",
   "nbconvert_exporter": "python",
   "pygments_lexer": "ipython3",
   "version": "3.7.3"
  }
 },
 "nbformat": 4,
 "nbformat_minor": 4
}
