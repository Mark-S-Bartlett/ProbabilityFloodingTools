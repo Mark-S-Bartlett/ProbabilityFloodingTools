{
 "cells": [
  {
   "cell_type": "markdown",
   "metadata": {},
   "source": [
    "# PFRA Results Overview: AAL's\n",
    "\n",
    "---\n",
    "\n",
    "### Contents\n",
    "\n",
    " - Summary of Data & Project Area Results\n",
    " - Outliers\n",
    " - Mean Values\n",
    " - Box Plots\n",
    " - AAL Heat Maps\n",
    "\n",
    "\n",
    "### *STARRII*"
   ]
  },
  {
   "cell_type": "markdown",
   "metadata": {},
   "source": [
    "## User inputs"
   ]
  },
  {
   "cell_type": "code",
   "execution_count": null,
   "metadata": {},
   "outputs": [],
   "source": [
    "if TRI:\n",
    "    datafile = 's3://pfra/RiskAssessment/{0}/Results/TRI/AALs/Final_AAL_{0}_{1}{2}.csv'.format(project, book, TRI)\n",
    "else:\n",
    "    datafile = 's3://pfra/RiskAssessment/{0}/Results/AALs/Final_AAL_{0}_{1}.csv'.format(project, book)\n",
    "    \n",
    "# outlier_threshold = 3000"
   ]
  },
  {
   "cell_type": "code",
   "execution_count": null,
   "metadata": {},
   "outputs": [],
   "source": [
    "import sys; sys.path.append('../core')\n",
    "from summarize_results import *\n",
    "%matplotlib inline\n",
    "df = pd.read_csv(datafile)"
   ]
  },
  {
   "cell_type": "markdown",
   "metadata": {},
   "source": [
    "## Summary of Data & Project Area Results"
   ]
  },
  {
   "cell_type": "code",
   "execution_count": null,
   "metadata": {},
   "outputs": [],
   "source": [
    "book = datafile.split('_')[-1].split('.')[0]\n",
    "project = datafile.split('_')[-2]\n",
    "gdf = df_to_gdf(df, book, project)"
   ]
  },
  {
   "cell_type": "markdown",
   "metadata": {},
   "source": [
    "## Outliers\n",
    "\n",
    "Identify structures where losses exceed a reasonable AAL threshold"
   ]
  },
  {
   "cell_type": "code",
   "execution_count": null,
   "metadata": {},
   "outputs": [],
   "source": [
    "get_outlier_info(gdf, outlier_threshold)  "
   ]
  },
  {
   "cell_type": "markdown",
   "metadata": {},
   "source": [
    "## Mean Values"
   ]
  },
  {
   "cell_type": "code",
   "execution_count": null,
   "metadata": {},
   "outputs": [],
   "source": [
    "get_means(gdf)"
   ]
  },
  {
   "cell_type": "markdown",
   "metadata": {},
   "source": [
    "## Medians"
   ]
  },
  {
   "cell_type": "code",
   "execution_count": null,
   "metadata": {},
   "outputs": [],
   "source": [
    "get_medians(gdf)"
   ]
  },
  {
   "cell_type": "markdown",
   "metadata": {},
   "source": [
    "## Box Plots\n",
    "AAL Data \n"
   ]
  },
  {
   "cell_type": "code",
   "execution_count": null,
   "metadata": {},
   "outputs": [],
   "source": [
    "box_and_whisker_all(gdf)"
   ]
  },
  {
   "cell_type": "markdown",
   "metadata": {},
   "source": [
    "AAL data where losses occured, with outliers removed"
   ]
  },
  {
   "cell_type": "code",
   "execution_count": null,
   "metadata": {},
   "outputs": [],
   "source": [
    "box_and_whisker_thresholded(gdf)    "
   ]
  },
  {
   "cell_type": "markdown",
   "metadata": {},
   "source": [
    "# AAL Heat Map\n",
    "\n",
    "---\n",
    "\n",
    "## Pluvial"
   ]
  },
  {
   "cell_type": "code",
   "execution_count": null,
   "metadata": {},
   "outputs": [],
   "source": [
    "bds = gdf.total_bounds\n",
    "location = [round(bds[[1,3]].mean(),2), round(bds[[0,2]].mean(),2)]"
   ]
  },
  {
   "cell_type": "code",
   "execution_count": null,
   "metadata": {},
   "outputs": [],
   "source": [
    "col, threshold = 'PLUV_AAL', 10\n",
    "map_aals(gdf[gdf[col] > threshold].copy() , col, 'Pluvial', location=location, zoom_start=12)"
   ]
  },
  {
   "cell_type": "markdown",
   "metadata": {},
   "source": [
    "# AAL Heat Map\n",
    "\n",
    "---\n",
    "\n",
    "## Fluvial "
   ]
  },
  {
   "cell_type": "code",
   "execution_count": null,
   "metadata": {},
   "outputs": [],
   "source": [
    "col, threshold = 'FLUV_AAL', 10\n",
    "map_aals(gdf[gdf[col] > threshold].copy() , col, 'Fluvial', location=location, zoom_start=12)"
   ]
  },
  {
   "cell_type": "markdown",
   "metadata": {},
   "source": [
    "#### Reference data (Point Inputs)"
   ]
  },
  {
   "cell_type": "code",
   "execution_count": null,
   "metadata": {},
   "outputs": [],
   "source": [
    "df.head()"
   ]
  },
  {
   "cell_type": "markdown",
   "metadata": {},
   "source": [
    "# END"
   ]
  }
 ],
 "metadata": {
  "kernelspec": {
   "display_name": "Python 3",
   "language": "python",
   "name": "python3"
  },
  "language_info": {
   "codemirror_mode": {
    "name": "ipython",
    "version": 3
   },
   "file_extension": ".py",
   "mimetype": "text/x-python",
   "name": "python",
   "nbconvert_exporter": "python",
   "pygments_lexer": "ipython3",
   "version": "3.7.3"
  }
 },
 "nbformat": 4,
 "nbformat_minor": 4
}
